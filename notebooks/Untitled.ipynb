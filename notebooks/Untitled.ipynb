{
 "cells": [
  {
   "cell_type": "code",
   "execution_count": 1,
   "id": "fdcb03e1",
   "metadata": {},
   "outputs": [],
   "source": [
    "# BASIC IMPORTS\n",
    "import sys\n",
    "sys.path.append(r'..\\src')\n",
    "\n",
    "import pandas as pd\n",
    "\n",
    "import pylab as plt\n",
    "\n",
    "import seaborn as sns\n",
    "\n",
    "import numpy as np\n",
    "\n",
    "import re\n",
    "\n",
    "from src import getGraphic\n",
    "from ufc_fights import set_names_upper, set_name_winner, fix_columns, set_nan_columns, add_fighterid\n",
    "from ufc_fighters import load_ufc_fighters, load_ufc_fighters_styles, set_fighter_upper, clean_fighters"
   ]
  },
  {
   "cell_type": "code",
   "execution_count": 2,
   "id": "1f421505",
   "metadata": {},
   "outputs": [],
   "source": [
    "# MACHINE LEARNING IMPORTS\n",
    "from sklearn.model_selection import train_test_split\n",
    "from sklearn.linear_model import LogisticRegression\n",
    "from sklearn.ensemble import RandomForestRegressor as RFR\n",
    "rfr=RFR()\n",
    "\n",
    "from sklearn.preprocessing import LabelEncoder\n",
    "\n",
    "from sklearn.metrics import mean_squared_error as mse\n",
    "from sklearn.metrics import r2_score as r2\n",
    "\n",
    "import h2o\n",
    "from h2o.automl import H2OAutoML"
   ]
  },
  {
   "cell_type": "code",
   "execution_count": 3,
   "id": "e573b6bd",
   "metadata": {},
   "outputs": [],
   "source": [
    "fighter = pd.read_csv(r'..\\data\\raw_fighter_details.csv')\n",
    "\n",
    "data = pd.read_csv(r'..\\data\\data.csv')\n",
    "\n",
    "ufc_fighters = pd.read_csv(r'..\\data\\ufc_fighters_official.csv')\n",
    "\n",
    "ufc_styles = pd.read_csv(r'..\\data\\ufc_fighters_styles.csv')\n",
    "\n",
    "ufc_odds = pd.read_csv('../data/ufc_odds.csv')"
   ]
  },
  {
   "cell_type": "markdown",
   "id": "7fb926cb",
   "metadata": {},
   "source": [
    "# TABLA LUCHADORES"
   ]
  },
  {
   "cell_type": "code",
   "execution_count": 4,
   "id": "428e1b57",
   "metadata": {},
   "outputs": [],
   "source": [
    "# Join entre luchadores recopilados y estilos recopilados\n",
    "ufc_styles = ufc_styles.drop_duplicates('Name')\n",
    "\n",
    "x = ufc_fighters.set_index('Nombres').join(ufc_styles[['Name','Category','Record','Style']].set_index('Name'),\n",
    "                                               rsuffix='_dcha', how='left')\n",
    "\n",
    "x.insert(0, 'Nombres', x.index)\n",
    "x.reset_index(drop=True, inplace=True)\n",
    "x = x.drop(['Category', 'Record_dcha', 'Unnamed: 0'], axis=1)\n",
    "x = x.drop_duplicates('Nombres')\n",
    "x.reset_index(drop=True, inplace=True)"
   ]
  },
  {
   "cell_type": "code",
   "execution_count": 5,
   "id": "e71645ba",
   "metadata": {
    "scrolled": true
   },
   "outputs": [
    {
     "data": {
      "text/html": [
       "<div>\n",
       "<style scoped>\n",
       "    .dataframe tbody tr th:only-of-type {\n",
       "        vertical-align: middle;\n",
       "    }\n",
       "\n",
       "    .dataframe tbody tr th {\n",
       "        vertical-align: top;\n",
       "    }\n",
       "\n",
       "    .dataframe thead th {\n",
       "        text-align: right;\n",
       "    }\n",
       "</style>\n",
       "<table border=\"1\" class=\"dataframe\">\n",
       "  <thead>\n",
       "    <tr style=\"text-align: right;\">\n",
       "      <th></th>\n",
       "      <th>fighter_id</th>\n",
       "      <th>Name</th>\n",
       "      <th>Style</th>\n",
       "      <th>MMA_Style</th>\n",
       "      <th>DOB</th>\n",
       "      <th>Wins</th>\n",
       "      <th>Losses</th>\n",
       "      <th>Draws</th>\n",
       "      <th>Categoría</th>\n",
       "      <th>Height_cm</th>\n",
       "      <th>...</th>\n",
       "      <th>Reach_cm</th>\n",
       "      <th>Stance</th>\n",
       "      <th>SLpM</th>\n",
       "      <th>Str_Acc</th>\n",
       "      <th>SApM</th>\n",
       "      <th>Str_Def</th>\n",
       "      <th>TD_Avg</th>\n",
       "      <th>TD_Acc</th>\n",
       "      <th>TD_Def</th>\n",
       "      <th>Sub_Avg</th>\n",
       "    </tr>\n",
       "  </thead>\n",
       "  <tbody>\n",
       "    <tr>\n",
       "      <th>0</th>\n",
       "      <td>0</td>\n",
       "      <td>PAPY ABEDI</td>\n",
       "      <td>MMA</td>\n",
       "      <td>SWITCH</td>\n",
       "      <td>1978-06-30 00:00:00</td>\n",
       "      <td>9</td>\n",
       "      <td>3</td>\n",
       "      <td>0</td>\n",
       "      <td>Middleweight</td>\n",
       "      <td>180.34</td>\n",
       "      <td>...</td>\n",
       "      <td>182.535871</td>\n",
       "      <td>Southpaw</td>\n",
       "      <td>2.80</td>\n",
       "      <td>0.55</td>\n",
       "      <td>3.15</td>\n",
       "      <td>0.48</td>\n",
       "      <td>3.47</td>\n",
       "      <td>0.57</td>\n",
       "      <td>0.50</td>\n",
       "      <td>1.3</td>\n",
       "    </tr>\n",
       "    <tr>\n",
       "      <th>1</th>\n",
       "      <td>1</td>\n",
       "      <td>SHAMIL ABDURAKHIMOV</td>\n",
       "      <td>Grappler</td>\n",
       "      <td>GRAPPLING</td>\n",
       "      <td>1981-09-02 00:00:00</td>\n",
       "      <td>20</td>\n",
       "      <td>7</td>\n",
       "      <td>0</td>\n",
       "      <td>Heavyweight</td>\n",
       "      <td>190.50</td>\n",
       "      <td>...</td>\n",
       "      <td>193.040000</td>\n",
       "      <td>Orthodox</td>\n",
       "      <td>2.45</td>\n",
       "      <td>0.44</td>\n",
       "      <td>2.45</td>\n",
       "      <td>0.58</td>\n",
       "      <td>1.23</td>\n",
       "      <td>0.24</td>\n",
       "      <td>0.47</td>\n",
       "      <td>0.2</td>\n",
       "    </tr>\n",
       "    <tr>\n",
       "      <th>2</th>\n",
       "      <td>2</td>\n",
       "      <td>DANNY ABBADI</td>\n",
       "      <td>MMA</td>\n",
       "      <td>SWITCH</td>\n",
       "      <td>1983-07-03 00:00:00</td>\n",
       "      <td>2</td>\n",
       "      <td>2</td>\n",
       "      <td>0</td>\n",
       "      <td>Lightweight</td>\n",
       "      <td>180.34</td>\n",
       "      <td>...</td>\n",
       "      <td>182.535871</td>\n",
       "      <td>Orthodox</td>\n",
       "      <td>3.29</td>\n",
       "      <td>0.38</td>\n",
       "      <td>4.41</td>\n",
       "      <td>0.57</td>\n",
       "      <td>0.00</td>\n",
       "      <td>0.00</td>\n",
       "      <td>0.77</td>\n",
       "      <td>0.0</td>\n",
       "    </tr>\n",
       "    <tr>\n",
       "      <th>3</th>\n",
       "      <td>3</td>\n",
       "      <td>RICARDO ABREU</td>\n",
       "      <td>MMA</td>\n",
       "      <td>SWITCH</td>\n",
       "      <td>1984-04-27 00:00:00</td>\n",
       "      <td>5</td>\n",
       "      <td>1</td>\n",
       "      <td>0</td>\n",
       "      <td>Middleweight</td>\n",
       "      <td>180.34</td>\n",
       "      <td>...</td>\n",
       "      <td>182.535871</td>\n",
       "      <td>Orthodox</td>\n",
       "      <td>3.79</td>\n",
       "      <td>0.31</td>\n",
       "      <td>3.98</td>\n",
       "      <td>0.68</td>\n",
       "      <td>2.13</td>\n",
       "      <td>0.42</td>\n",
       "      <td>1.00</td>\n",
       "      <td>0.7</td>\n",
       "    </tr>\n",
       "    <tr>\n",
       "      <th>4</th>\n",
       "      <td>4</td>\n",
       "      <td>DAICHI ABE</td>\n",
       "      <td>MMA</td>\n",
       "      <td>SWITCH</td>\n",
       "      <td>1991-11-27 00:00:00</td>\n",
       "      <td>6</td>\n",
       "      <td>1</td>\n",
       "      <td>0</td>\n",
       "      <td>Welterweight</td>\n",
       "      <td>180.34</td>\n",
       "      <td>...</td>\n",
       "      <td>180.340000</td>\n",
       "      <td>Orthodox</td>\n",
       "      <td>3.80</td>\n",
       "      <td>0.33</td>\n",
       "      <td>4.49</td>\n",
       "      <td>0.56</td>\n",
       "      <td>0.33</td>\n",
       "      <td>0.50</td>\n",
       "      <td>0.00</td>\n",
       "      <td>0.0</td>\n",
       "    </tr>\n",
       "    <tr>\n",
       "      <th>...</th>\n",
       "      <td>...</td>\n",
       "      <td>...</td>\n",
       "      <td>...</td>\n",
       "      <td>...</td>\n",
       "      <td>...</td>\n",
       "      <td>...</td>\n",
       "      <td>...</td>\n",
       "      <td>...</td>\n",
       "      <td>...</td>\n",
       "      <td>...</td>\n",
       "      <td>...</td>\n",
       "      <td>...</td>\n",
       "      <td>...</td>\n",
       "      <td>...</td>\n",
       "      <td>...</td>\n",
       "      <td>...</td>\n",
       "      <td>...</td>\n",
       "      <td>...</td>\n",
       "      <td>...</td>\n",
       "      <td>...</td>\n",
       "      <td>...</td>\n",
       "    </tr>\n",
       "    <tr>\n",
       "      <th>2203</th>\n",
       "      <td>2203</td>\n",
       "      <td>ZHALGAS ZHUMAGULOV</td>\n",
       "      <td>Freestyle</td>\n",
       "      <td>GRAPPLING</td>\n",
       "      <td>1988-08-29 00:00:00</td>\n",
       "      <td>14</td>\n",
       "      <td>6</td>\n",
       "      <td>0</td>\n",
       "      <td>Flyweight</td>\n",
       "      <td>162.56</td>\n",
       "      <td>...</td>\n",
       "      <td>167.640000</td>\n",
       "      <td>Switch</td>\n",
       "      <td>4.17</td>\n",
       "      <td>0.49</td>\n",
       "      <td>4.00</td>\n",
       "      <td>0.58</td>\n",
       "      <td>1.50</td>\n",
       "      <td>0.21</td>\n",
       "      <td>0.33</td>\n",
       "      <td>0.0</td>\n",
       "    </tr>\n",
       "    <tr>\n",
       "      <th>2204</th>\n",
       "      <td>2204</td>\n",
       "      <td>JAMES ZIKIC</td>\n",
       "      <td>MMA</td>\n",
       "      <td>SWITCH</td>\n",
       "      <td>1977-03-01 00:00:00</td>\n",
       "      <td>16</td>\n",
       "      <td>3</td>\n",
       "      <td>0</td>\n",
       "      <td>Light Heavyweight</td>\n",
       "      <td>187.96</td>\n",
       "      <td>...</td>\n",
       "      <td>182.535871</td>\n",
       "      <td>Orthodox</td>\n",
       "      <td>1.47</td>\n",
       "      <td>0.35</td>\n",
       "      <td>1.60</td>\n",
       "      <td>0.44</td>\n",
       "      <td>0.50</td>\n",
       "      <td>0.25</td>\n",
       "      <td>0.74</td>\n",
       "      <td>0.5</td>\n",
       "    </tr>\n",
       "    <tr>\n",
       "      <th>2205</th>\n",
       "      <td>2205</td>\n",
       "      <td>CAT ZINGANO</td>\n",
       "      <td>MMA</td>\n",
       "      <td>SWITCH</td>\n",
       "      <td>1982-07-01 00:00:00</td>\n",
       "      <td>10</td>\n",
       "      <td>4</td>\n",
       "      <td>0</td>\n",
       "      <td>Women's Featherweight</td>\n",
       "      <td>167.64</td>\n",
       "      <td>...</td>\n",
       "      <td>172.720000</td>\n",
       "      <td>Southpaw</td>\n",
       "      <td>2.57</td>\n",
       "      <td>0.61</td>\n",
       "      <td>1.63</td>\n",
       "      <td>0.47</td>\n",
       "      <td>2.77</td>\n",
       "      <td>0.65</td>\n",
       "      <td>0.42</td>\n",
       "      <td>0.8</td>\n",
       "    </tr>\n",
       "    <tr>\n",
       "      <th>2206</th>\n",
       "      <td>2206</td>\n",
       "      <td>IGOR ZINOVIEV</td>\n",
       "      <td>MMA</td>\n",
       "      <td>SWITCH</td>\n",
       "      <td>0</td>\n",
       "      <td>0</td>\n",
       "      <td>0</td>\n",
       "      <td>0</td>\n",
       "      <td>Middleweight</td>\n",
       "      <td>185.42</td>\n",
       "      <td>...</td>\n",
       "      <td>182.535871</td>\n",
       "      <td>Orthodox</td>\n",
       "      <td>0.00</td>\n",
       "      <td>0.00</td>\n",
       "      <td>0.00</td>\n",
       "      <td>0.00</td>\n",
       "      <td>0.00</td>\n",
       "      <td>0.00</td>\n",
       "      <td>0.00</td>\n",
       "      <td>0.0</td>\n",
       "    </tr>\n",
       "    <tr>\n",
       "      <th>2207</th>\n",
       "      <td>2207</td>\n",
       "      <td>ALLAN ZUNIGA</td>\n",
       "      <td>MMA</td>\n",
       "      <td>SWITCH</td>\n",
       "      <td>1992-04-04 00:00:00</td>\n",
       "      <td>13</td>\n",
       "      <td>2</td>\n",
       "      <td>0</td>\n",
       "      <td>Lightweight</td>\n",
       "      <td>170.18</td>\n",
       "      <td>...</td>\n",
       "      <td>177.800000</td>\n",
       "      <td>Orthodox</td>\n",
       "      <td>3.93</td>\n",
       "      <td>0.52</td>\n",
       "      <td>1.80</td>\n",
       "      <td>0.61</td>\n",
       "      <td>0.00</td>\n",
       "      <td>0.00</td>\n",
       "      <td>0.57</td>\n",
       "      <td>1.0</td>\n",
       "    </tr>\n",
       "  </tbody>\n",
       "</table>\n",
       "<p>2208 rows × 21 columns</p>\n",
       "</div>"
      ],
      "text/plain": [
       "      fighter_id                 Name      Style  MMA_Style  \\\n",
       "0              0           PAPY ABEDI        MMA     SWITCH   \n",
       "1              1  SHAMIL ABDURAKHIMOV   Grappler  GRAPPLING   \n",
       "2              2         DANNY ABBADI        MMA     SWITCH   \n",
       "3              3        RICARDO ABREU        MMA     SWITCH   \n",
       "4              4           DAICHI ABE        MMA     SWITCH   \n",
       "...          ...                  ...        ...        ...   \n",
       "2203        2203   ZHALGAS ZHUMAGULOV  Freestyle  GRAPPLING   \n",
       "2204        2204          JAMES ZIKIC        MMA     SWITCH   \n",
       "2205        2205          CAT ZINGANO        MMA     SWITCH   \n",
       "2206        2206        IGOR ZINOVIEV        MMA     SWITCH   \n",
       "2207        2207         ALLAN ZUNIGA        MMA     SWITCH   \n",
       "\n",
       "                      DOB Wins Losses Draws              Categoría  Height_cm  \\\n",
       "0     1978-06-30 00:00:00    9      3     0           Middleweight     180.34   \n",
       "1     1981-09-02 00:00:00   20      7     0            Heavyweight     190.50   \n",
       "2     1983-07-03 00:00:00    2      2     0            Lightweight     180.34   \n",
       "3     1984-04-27 00:00:00    5      1     0           Middleweight     180.34   \n",
       "4     1991-11-27 00:00:00    6      1     0           Welterweight     180.34   \n",
       "...                   ...  ...    ...   ...                    ...        ...   \n",
       "2203  1988-08-29 00:00:00   14      6     0              Flyweight     162.56   \n",
       "2204  1977-03-01 00:00:00   16      3     0      Light Heavyweight     187.96   \n",
       "2205  1982-07-01 00:00:00   10      4     0  Women's Featherweight     167.64   \n",
       "2206                    0    0      0     0           Middleweight     185.42   \n",
       "2207  1992-04-04 00:00:00   13      2     0            Lightweight     170.18   \n",
       "\n",
       "      ...    Reach_cm    Stance  SLpM  Str_Acc  SApM  Str_Def  TD_Avg  TD_Acc  \\\n",
       "0     ...  182.535871  Southpaw  2.80     0.55  3.15     0.48    3.47    0.57   \n",
       "1     ...  193.040000  Orthodox  2.45     0.44  2.45     0.58    1.23    0.24   \n",
       "2     ...  182.535871  Orthodox  3.29     0.38  4.41     0.57    0.00    0.00   \n",
       "3     ...  182.535871  Orthodox  3.79     0.31  3.98     0.68    2.13    0.42   \n",
       "4     ...  180.340000  Orthodox  3.80     0.33  4.49     0.56    0.33    0.50   \n",
       "...   ...         ...       ...   ...      ...   ...      ...     ...     ...   \n",
       "2203  ...  167.640000    Switch  4.17     0.49  4.00     0.58    1.50    0.21   \n",
       "2204  ...  182.535871  Orthodox  1.47     0.35  1.60     0.44    0.50    0.25   \n",
       "2205  ...  172.720000  Southpaw  2.57     0.61  1.63     0.47    2.77    0.65   \n",
       "2206  ...  182.535871  Orthodox  0.00     0.00  0.00     0.00    0.00    0.00   \n",
       "2207  ...  177.800000  Orthodox  3.93     0.52  1.80     0.61    0.00    0.00   \n",
       "\n",
       "      TD_Def  Sub_Avg  \n",
       "0       0.50      1.3  \n",
       "1       0.47      0.2  \n",
       "2       0.77      0.0  \n",
       "3       1.00      0.7  \n",
       "4       0.00      0.0  \n",
       "...      ...      ...  \n",
       "2203    0.33      0.0  \n",
       "2204    0.74      0.5  \n",
       "2205    0.42      0.8  \n",
       "2206    0.00      0.0  \n",
       "2207    0.57      1.0  \n",
       "\n",
       "[2208 rows x 21 columns]"
      ]
     },
     "execution_count": 5,
     "metadata": {},
     "output_type": "execute_result"
    }
   ],
   "source": [
    "set_fighter_upper(fighter)\n",
    "\n",
    "fighters = clean_fighters(fighter, x)\n",
    "\n",
    "fighters"
   ]
  },
  {
   "cell_type": "markdown",
   "id": "03bca6f4",
   "metadata": {},
   "source": [
    "# TABLA FIGHTS"
   ]
  },
  {
   "cell_type": "code",
   "execution_count": 6,
   "id": "82a90a70",
   "metadata": {},
   "outputs": [
    {
     "name": "stdout",
     "output_type": "stream",
     "text": [
      "<class 'pandas.core.frame.DataFrame'>\n",
      "RangeIndex: 6012 entries, 0 to 6011\n",
      "Columns: 144 entries, R_fighter to R_age\n",
      "dtypes: bool(1), float64(106), int64(28), object(9)\n",
      "memory usage: 6.6+ MB\n"
     ]
    }
   ],
   "source": [
    "data.info()"
   ]
  },
  {
   "cell_type": "code",
   "execution_count": 7,
   "id": "4718ea22",
   "metadata": {},
   "outputs": [
    {
     "data": {
      "text/html": [
       "<div>\n",
       "<style scoped>\n",
       "    .dataframe tbody tr th:only-of-type {\n",
       "        vertical-align: middle;\n",
       "    }\n",
       "\n",
       "    .dataframe tbody tr th {\n",
       "        vertical-align: top;\n",
       "    }\n",
       "\n",
       "    .dataframe thead th {\n",
       "        text-align: right;\n",
       "    }\n",
       "</style>\n",
       "<table border=\"1\" class=\"dataframe\">\n",
       "  <thead>\n",
       "    <tr style=\"text-align: right;\">\n",
       "      <th></th>\n",
       "      <th>R_fighter</th>\n",
       "      <th>B_fighter</th>\n",
       "      <th>Referee</th>\n",
       "      <th>date</th>\n",
       "      <th>location</th>\n",
       "      <th>Winner</th>\n",
       "      <th>title_bout</th>\n",
       "      <th>weight_class</th>\n",
       "      <th>B_avg_KD</th>\n",
       "      <th>B_avg_opp_KD</th>\n",
       "      <th>...</th>\n",
       "      <th>R_win_by_Decision_Unanimous</th>\n",
       "      <th>R_win_by_KO/TKO</th>\n",
       "      <th>R_win_by_Submission</th>\n",
       "      <th>R_win_by_TKO_Doctor_Stoppage</th>\n",
       "      <th>R_Stance</th>\n",
       "      <th>R_Height_cms</th>\n",
       "      <th>R_Reach_cms</th>\n",
       "      <th>R_Weight_lbs</th>\n",
       "      <th>B_age</th>\n",
       "      <th>R_age</th>\n",
       "    </tr>\n",
       "  </thead>\n",
       "  <tbody>\n",
       "    <tr>\n",
       "      <th>0</th>\n",
       "      <td>Adrian Yanez</td>\n",
       "      <td>Gustavo Lopez</td>\n",
       "      <td>Chris Tognoni</td>\n",
       "      <td>2021-03-20</td>\n",
       "      <td>Las Vegas, Nevada, USA</td>\n",
       "      <td>Red</td>\n",
       "      <td>False</td>\n",
       "      <td>Bantamweight</td>\n",
       "      <td>0.000</td>\n",
       "      <td>0.0</td>\n",
       "      <td>...</td>\n",
       "      <td>0</td>\n",
       "      <td>1</td>\n",
       "      <td>0</td>\n",
       "      <td>0</td>\n",
       "      <td>Orthodox</td>\n",
       "      <td>170.18</td>\n",
       "      <td>177.80</td>\n",
       "      <td>135.0</td>\n",
       "      <td>31.0</td>\n",
       "      <td>27.0</td>\n",
       "    </tr>\n",
       "    <tr>\n",
       "      <th>1</th>\n",
       "      <td>Trevin Giles</td>\n",
       "      <td>Roman Dolidze</td>\n",
       "      <td>Herb Dean</td>\n",
       "      <td>2021-03-20</td>\n",
       "      <td>Las Vegas, Nevada, USA</td>\n",
       "      <td>Red</td>\n",
       "      <td>False</td>\n",
       "      <td>Middleweight</td>\n",
       "      <td>0.500</td>\n",
       "      <td>0.0</td>\n",
       "      <td>...</td>\n",
       "      <td>0</td>\n",
       "      <td>3</td>\n",
       "      <td>0</td>\n",
       "      <td>0</td>\n",
       "      <td>Orthodox</td>\n",
       "      <td>182.88</td>\n",
       "      <td>187.96</td>\n",
       "      <td>185.0</td>\n",
       "      <td>32.0</td>\n",
       "      <td>28.0</td>\n",
       "    </tr>\n",
       "    <tr>\n",
       "      <th>2</th>\n",
       "      <td>Tai Tuivasa</td>\n",
       "      <td>Harry Hunsucker</td>\n",
       "      <td>Herb Dean</td>\n",
       "      <td>2021-03-20</td>\n",
       "      <td>Las Vegas, Nevada, USA</td>\n",
       "      <td>Red</td>\n",
       "      <td>False</td>\n",
       "      <td>Heavyweight</td>\n",
       "      <td>NaN</td>\n",
       "      <td>NaN</td>\n",
       "      <td>...</td>\n",
       "      <td>1</td>\n",
       "      <td>3</td>\n",
       "      <td>0</td>\n",
       "      <td>0</td>\n",
       "      <td>Southpaw</td>\n",
       "      <td>187.96</td>\n",
       "      <td>190.50</td>\n",
       "      <td>264.0</td>\n",
       "      <td>32.0</td>\n",
       "      <td>28.0</td>\n",
       "    </tr>\n",
       "    <tr>\n",
       "      <th>3</th>\n",
       "      <td>Cheyanne Buys</td>\n",
       "      <td>Montserrat Conejo</td>\n",
       "      <td>Mark Smith</td>\n",
       "      <td>2021-03-20</td>\n",
       "      <td>Las Vegas, Nevada, USA</td>\n",
       "      <td>Blue</td>\n",
       "      <td>False</td>\n",
       "      <td>WomenStrawweight</td>\n",
       "      <td>NaN</td>\n",
       "      <td>NaN</td>\n",
       "      <td>...</td>\n",
       "      <td>0</td>\n",
       "      <td>0</td>\n",
       "      <td>0</td>\n",
       "      <td>0</td>\n",
       "      <td>Switch</td>\n",
       "      <td>160.02</td>\n",
       "      <td>160.02</td>\n",
       "      <td>115.0</td>\n",
       "      <td>28.0</td>\n",
       "      <td>25.0</td>\n",
       "    </tr>\n",
       "    <tr>\n",
       "      <th>4</th>\n",
       "      <td>Marion Reneau</td>\n",
       "      <td>Macy Chiasson</td>\n",
       "      <td>Mark Smith</td>\n",
       "      <td>2021-03-20</td>\n",
       "      <td>Las Vegas, Nevada, USA</td>\n",
       "      <td>Blue</td>\n",
       "      <td>False</td>\n",
       "      <td>WomenBantamweight</td>\n",
       "      <td>0.125</td>\n",
       "      <td>0.0</td>\n",
       "      <td>...</td>\n",
       "      <td>1</td>\n",
       "      <td>2</td>\n",
       "      <td>2</td>\n",
       "      <td>0</td>\n",
       "      <td>Orthodox</td>\n",
       "      <td>167.64</td>\n",
       "      <td>172.72</td>\n",
       "      <td>135.0</td>\n",
       "      <td>29.0</td>\n",
       "      <td>43.0</td>\n",
       "    </tr>\n",
       "  </tbody>\n",
       "</table>\n",
       "<p>5 rows × 144 columns</p>\n",
       "</div>"
      ],
      "text/plain": [
       "       R_fighter          B_fighter        Referee        date  \\\n",
       "0   Adrian Yanez      Gustavo Lopez  Chris Tognoni  2021-03-20   \n",
       "1   Trevin Giles      Roman Dolidze      Herb Dean  2021-03-20   \n",
       "2    Tai Tuivasa    Harry Hunsucker      Herb Dean  2021-03-20   \n",
       "3  Cheyanne Buys  Montserrat Conejo     Mark Smith  2021-03-20   \n",
       "4  Marion Reneau      Macy Chiasson     Mark Smith  2021-03-20   \n",
       "\n",
       "                 location Winner  title_bout       weight_class  B_avg_KD  \\\n",
       "0  Las Vegas, Nevada, USA    Red       False       Bantamweight     0.000   \n",
       "1  Las Vegas, Nevada, USA    Red       False       Middleweight     0.500   \n",
       "2  Las Vegas, Nevada, USA    Red       False        Heavyweight       NaN   \n",
       "3  Las Vegas, Nevada, USA   Blue       False   WomenStrawweight       NaN   \n",
       "4  Las Vegas, Nevada, USA   Blue       False  WomenBantamweight     0.125   \n",
       "\n",
       "   B_avg_opp_KD  ...  R_win_by_Decision_Unanimous  R_win_by_KO/TKO  \\\n",
       "0           0.0  ...                            0                1   \n",
       "1           0.0  ...                            0                3   \n",
       "2           NaN  ...                            1                3   \n",
       "3           NaN  ...                            0                0   \n",
       "4           0.0  ...                            1                2   \n",
       "\n",
       "   R_win_by_Submission  R_win_by_TKO_Doctor_Stoppage  R_Stance  R_Height_cms  \\\n",
       "0                    0                             0  Orthodox        170.18   \n",
       "1                    0                             0  Orthodox        182.88   \n",
       "2                    0                             0  Southpaw        187.96   \n",
       "3                    0                             0    Switch        160.02   \n",
       "4                    2                             0  Orthodox        167.64   \n",
       "\n",
       "   R_Reach_cms  R_Weight_lbs  B_age  R_age  \n",
       "0       177.80         135.0   31.0   27.0  \n",
       "1       187.96         185.0   32.0   28.0  \n",
       "2       190.50         264.0   32.0   28.0  \n",
       "3       160.02         115.0   28.0   25.0  \n",
       "4       172.72         135.0   29.0   43.0  \n",
       "\n",
       "[5 rows x 144 columns]"
      ]
     },
     "execution_count": 7,
     "metadata": {},
     "output_type": "execute_result"
    }
   ],
   "source": [
    "data.head()"
   ]
  },
  {
   "cell_type": "code",
   "execution_count": 8,
   "id": "b6c1bca0",
   "metadata": {},
   "outputs": [
    {
     "data": {
      "text/html": [
       "<div>\n",
       "<style scoped>\n",
       "    .dataframe tbody tr th:only-of-type {\n",
       "        vertical-align: middle;\n",
       "    }\n",
       "\n",
       "    .dataframe tbody tr th {\n",
       "        vertical-align: top;\n",
       "    }\n",
       "\n",
       "    .dataframe thead th {\n",
       "        text-align: right;\n",
       "    }\n",
       "</style>\n",
       "<table border=\"1\" class=\"dataframe\">\n",
       "  <thead>\n",
       "    <tr style=\"text-align: right;\">\n",
       "      <th></th>\n",
       "      <th>R_fighter</th>\n",
       "      <th>B_fighter</th>\n",
       "      <th>Referee</th>\n",
       "      <th>date</th>\n",
       "      <th>location</th>\n",
       "      <th>Winner</th>\n",
       "      <th>title_bout</th>\n",
       "      <th>weight_class</th>\n",
       "      <th>B_avg_KD</th>\n",
       "      <th>B_avg_opp_KD</th>\n",
       "      <th>...</th>\n",
       "      <th>R_win_by_Decision_Unanimous</th>\n",
       "      <th>R_win_by_KO/TKO</th>\n",
       "      <th>R_win_by_Submission</th>\n",
       "      <th>R_win_by_TKO_Doctor_Stoppage</th>\n",
       "      <th>R_Stance</th>\n",
       "      <th>R_Height_cms</th>\n",
       "      <th>R_Reach_cms</th>\n",
       "      <th>R_Weight_lbs</th>\n",
       "      <th>B_age</th>\n",
       "      <th>R_age</th>\n",
       "    </tr>\n",
       "  </thead>\n",
       "  <tbody>\n",
       "    <tr>\n",
       "      <th>0</th>\n",
       "      <td>ADRIAN YANEZ</td>\n",
       "      <td>GUSTAVO LOPEZ</td>\n",
       "      <td>Chris Tognoni</td>\n",
       "      <td>2021-03-20</td>\n",
       "      <td>Las Vegas, Nevada, USA</td>\n",
       "      <td>Red</td>\n",
       "      <td>False</td>\n",
       "      <td>Bantamweight</td>\n",
       "      <td>0.000</td>\n",
       "      <td>0.0</td>\n",
       "      <td>...</td>\n",
       "      <td>0</td>\n",
       "      <td>1</td>\n",
       "      <td>0</td>\n",
       "      <td>0</td>\n",
       "      <td>Orthodox</td>\n",
       "      <td>170.18</td>\n",
       "      <td>177.80</td>\n",
       "      <td>135.0</td>\n",
       "      <td>31.0</td>\n",
       "      <td>27.0</td>\n",
       "    </tr>\n",
       "    <tr>\n",
       "      <th>1</th>\n",
       "      <td>TREVIN GILES</td>\n",
       "      <td>ROMAN DOLIDZE</td>\n",
       "      <td>Herb Dean</td>\n",
       "      <td>2021-03-20</td>\n",
       "      <td>Las Vegas, Nevada, USA</td>\n",
       "      <td>Red</td>\n",
       "      <td>False</td>\n",
       "      <td>Middleweight</td>\n",
       "      <td>0.500</td>\n",
       "      <td>0.0</td>\n",
       "      <td>...</td>\n",
       "      <td>0</td>\n",
       "      <td>3</td>\n",
       "      <td>0</td>\n",
       "      <td>0</td>\n",
       "      <td>Orthodox</td>\n",
       "      <td>182.88</td>\n",
       "      <td>187.96</td>\n",
       "      <td>185.0</td>\n",
       "      <td>32.0</td>\n",
       "      <td>28.0</td>\n",
       "    </tr>\n",
       "    <tr>\n",
       "      <th>2</th>\n",
       "      <td>TAI TUIVASA</td>\n",
       "      <td>HARRY HUNSUCKER</td>\n",
       "      <td>Herb Dean</td>\n",
       "      <td>2021-03-20</td>\n",
       "      <td>Las Vegas, Nevada, USA</td>\n",
       "      <td>Red</td>\n",
       "      <td>False</td>\n",
       "      <td>Heavyweight</td>\n",
       "      <td>NaN</td>\n",
       "      <td>NaN</td>\n",
       "      <td>...</td>\n",
       "      <td>1</td>\n",
       "      <td>3</td>\n",
       "      <td>0</td>\n",
       "      <td>0</td>\n",
       "      <td>Southpaw</td>\n",
       "      <td>187.96</td>\n",
       "      <td>190.50</td>\n",
       "      <td>264.0</td>\n",
       "      <td>32.0</td>\n",
       "      <td>28.0</td>\n",
       "    </tr>\n",
       "    <tr>\n",
       "      <th>3</th>\n",
       "      <td>CHEYANNE BUYS</td>\n",
       "      <td>MONTSERRAT CONEJO</td>\n",
       "      <td>Mark Smith</td>\n",
       "      <td>2021-03-20</td>\n",
       "      <td>Las Vegas, Nevada, USA</td>\n",
       "      <td>Blue</td>\n",
       "      <td>False</td>\n",
       "      <td>WomenStrawweight</td>\n",
       "      <td>NaN</td>\n",
       "      <td>NaN</td>\n",
       "      <td>...</td>\n",
       "      <td>0</td>\n",
       "      <td>0</td>\n",
       "      <td>0</td>\n",
       "      <td>0</td>\n",
       "      <td>Switch</td>\n",
       "      <td>160.02</td>\n",
       "      <td>160.02</td>\n",
       "      <td>115.0</td>\n",
       "      <td>28.0</td>\n",
       "      <td>25.0</td>\n",
       "    </tr>\n",
       "    <tr>\n",
       "      <th>4</th>\n",
       "      <td>MARION RENEAU</td>\n",
       "      <td>MACY CHIASSON</td>\n",
       "      <td>Mark Smith</td>\n",
       "      <td>2021-03-20</td>\n",
       "      <td>Las Vegas, Nevada, USA</td>\n",
       "      <td>Blue</td>\n",
       "      <td>False</td>\n",
       "      <td>WomenBantamweight</td>\n",
       "      <td>0.125</td>\n",
       "      <td>0.0</td>\n",
       "      <td>...</td>\n",
       "      <td>1</td>\n",
       "      <td>2</td>\n",
       "      <td>2</td>\n",
       "      <td>0</td>\n",
       "      <td>Orthodox</td>\n",
       "      <td>167.64</td>\n",
       "      <td>172.72</td>\n",
       "      <td>135.0</td>\n",
       "      <td>29.0</td>\n",
       "      <td>43.0</td>\n",
       "    </tr>\n",
       "  </tbody>\n",
       "</table>\n",
       "<p>5 rows × 144 columns</p>\n",
       "</div>"
      ],
      "text/plain": [
       "       R_fighter          B_fighter        Referee        date  \\\n",
       "0   ADRIAN YANEZ      GUSTAVO LOPEZ  Chris Tognoni  2021-03-20   \n",
       "1   TREVIN GILES      ROMAN DOLIDZE      Herb Dean  2021-03-20   \n",
       "2    TAI TUIVASA    HARRY HUNSUCKER      Herb Dean  2021-03-20   \n",
       "3  CHEYANNE BUYS  MONTSERRAT CONEJO     Mark Smith  2021-03-20   \n",
       "4  MARION RENEAU      MACY CHIASSON     Mark Smith  2021-03-20   \n",
       "\n",
       "                 location Winner  title_bout       weight_class  B_avg_KD  \\\n",
       "0  Las Vegas, Nevada, USA    Red       False       Bantamweight     0.000   \n",
       "1  Las Vegas, Nevada, USA    Red       False       Middleweight     0.500   \n",
       "2  Las Vegas, Nevada, USA    Red       False        Heavyweight       NaN   \n",
       "3  Las Vegas, Nevada, USA   Blue       False   WomenStrawweight       NaN   \n",
       "4  Las Vegas, Nevada, USA   Blue       False  WomenBantamweight     0.125   \n",
       "\n",
       "   B_avg_opp_KD  ...  R_win_by_Decision_Unanimous  R_win_by_KO/TKO  \\\n",
       "0           0.0  ...                            0                1   \n",
       "1           0.0  ...                            0                3   \n",
       "2           NaN  ...                            1                3   \n",
       "3           NaN  ...                            0                0   \n",
       "4           0.0  ...                            1                2   \n",
       "\n",
       "   R_win_by_Submission  R_win_by_TKO_Doctor_Stoppage  R_Stance  R_Height_cms  \\\n",
       "0                    0                             0  Orthodox        170.18   \n",
       "1                    0                             0  Orthodox        182.88   \n",
       "2                    0                             0  Southpaw        187.96   \n",
       "3                    0                             0    Switch        160.02   \n",
       "4                    2                             0  Orthodox        167.64   \n",
       "\n",
       "   R_Reach_cms  R_Weight_lbs  B_age  R_age  \n",
       "0       177.80         135.0   31.0   27.0  \n",
       "1       187.96         185.0   32.0   28.0  \n",
       "2       190.50         264.0   32.0   28.0  \n",
       "3       160.02         115.0   28.0   25.0  \n",
       "4       172.72         135.0   29.0   43.0  \n",
       "\n",
       "[5 rows x 144 columns]"
      ]
     },
     "execution_count": 8,
     "metadata": {},
     "output_type": "execute_result"
    }
   ],
   "source": [
    "set_names_upper(data)\n",
    "\n",
    "fix_columns(data)\n",
    "\n",
    "set_nan_columns(data)\n",
    "\n",
    "data"
   ]
  },
  {
   "cell_type": "code",
   "execution_count": null,
   "id": "ebf34893",
   "metadata": {},
   "outputs": [],
   "source": [
    "'''set_name_winner(data)\n",
    "\n",
    "data.head()'''"
   ]
  },
  {
   "cell_type": "code",
   "execution_count": null,
   "id": "3e0cba96",
   "metadata": {},
   "outputs": [],
   "source": []
  },
  {
   "cell_type": "code",
   "execution_count": null,
   "id": "4c9cc5e1",
   "metadata": {},
   "outputs": [],
   "source": []
  },
  {
   "cell_type": "code",
   "execution_count": null,
   "id": "77a65560",
   "metadata": {},
   "outputs": [],
   "source": []
  },
  {
   "cell_type": "code",
   "execution_count": null,
   "id": "d494d8ac",
   "metadata": {},
   "outputs": [],
   "source": []
  },
  {
   "cell_type": "code",
   "execution_count": 12,
   "id": "3ca2ee38",
   "metadata": {},
   "outputs": [],
   "source": [
    "# Las reglas oficiales de la UFC no entraron hasta el año 2001, así que solo cogemos combates por encima del año 2002\n",
    "data = data[data.date>'2002-01-01']\n",
    "# Eliminamos DRAW en Winner para ir probando\n",
    "data = data[data.Winner!='Draw']\n",
    "# Eliminamos la columna LOCATION\n",
    "data = data.drop('location', axis=1)\n",
    "# Borramos el id al ser innecesario\n",
    "data = data.drop('fight_id', axis=1)"
   ]
  },
  {
   "cell_type": "code",
   "execution_count": 13,
   "id": "06f73f5e",
   "metadata": {
    "scrolled": false
   },
   "outputs": [
    {
     "data": {
      "text/plain": [
       "\"plt.figure(figsize=(50, 40))\\n\\ncorr_matrix = data.iloc[:,:].corr(method = 'pearson').abs()\\n\\nsns.heatmap(corr_matrix, annot=True)\""
      ]
     },
     "execution_count": 13,
     "metadata": {},
     "output_type": "execute_result"
    }
   ],
   "source": [
    "'''plt.figure(figsize=(50, 40))\n",
    "\n",
    "corr_matrix = data.iloc[:,:].corr(method = 'pearson').abs()\n",
    "\n",
    "sns.heatmap(corr_matrix, annot=True)'''"
   ]
  },
  {
   "cell_type": "code",
   "execution_count": 14,
   "id": "70516d99",
   "metadata": {
    "scrolled": true
   },
   "outputs": [
    {
     "data": {
      "text/plain": [
       "'correlations = (corr_matrix.where(np.triu(np.ones(corr_matrix.shape), k=1).astype(np.bool)).stack()\\n                    .sort_values(ascending=False))\\n\\nprint(correlations[:10])'"
      ]
     },
     "execution_count": 14,
     "metadata": {},
     "output_type": "execute_result"
    }
   ],
   "source": [
    "'''correlations = (corr_matrix.where(np.triu(np.ones(corr_matrix.shape), k=1).astype(np.bool)).stack()\n",
    "                    .sort_values(ascending=False))\n",
    "\n",
    "print(correlations[:10])'''"
   ]
  },
  {
   "cell_type": "code",
   "execution_count": 15,
   "id": "74c0210f",
   "metadata": {},
   "outputs": [
    {
     "data": {
      "text/plain": [
       "array(['THIAGO SANTOS', 'GLOVER TEIXEIRA',\n",
       "       Timestamp('2020-11-07 00:00:00'), 'Blue', False,\n",
       "       'LightHeavyweight', 0.5010185241699219, 0.5823753356933594,\n",
       "       0.3318797302246093, 0.7385482788085938, 0.5001220703125,\n",
       "       3.757099151611328, 0.8489723205566406, 323.5913734436035,\n",
       "       979.0288124084472, 46, 1, 14, 5, 0, 1, 2, 5, 5, 1, 'Orthodox',\n",
       "       187.96, 193.04, 205.0, 0.5208015441894531, 0.3907491683959961,\n",
       "       0.367393798828125, 0.03125, 0.0703125, 0.916156768798828,\n",
       "       0.53228759765625, 38.99400329589844, 1044.601333618164, 37, 1, 13,\n",
       "       6, 0, 0, 2, 11, 0, 0, 'Orthodox', 187.96, 193.04, 205.0, 41.0,\n",
       "       36.0, 68.0, 39.0, 57.0, 24.0, 72.0, 49.0, 100.0, 58.0, 48.0, 32.0,\n",
       "       67.0, 62.0, 81.0, 56.0], dtype=object)"
      ]
     },
     "execution_count": 15,
     "metadata": {},
     "output_type": "execute_result"
    }
   ],
   "source": [
    "# FUNCTION FOR SELECT THE LAST OR FIRST FIGHT OF A CONCRETE FIGHTER\n",
    "\n",
    "#  i = index of the fighter's fight, 0 means the last fight, -1 means first fight\n",
    "def select_fight_row(df, name, i): \n",
    "    \n",
    "    df_temp = df[(df['R_fighter'] == name) | (df['B_fighter'] == name)]  # filter df on fighter's name\n",
    "    \n",
    "    df_temp.reset_index(drop=True, inplace=True) #  as we created a new temporary dataframe, we have to reset indexes\n",
    "    \n",
    "    idx = max(df_temp.index)  #  get the index of the oldest fight\n",
    "    \n",
    "    if i > idx:  #  if we are looking for a fight that didn't exist, we return nothing\n",
    "        \n",
    "        return\n",
    "    \n",
    "    arr = df_temp.iloc[i].values\n",
    "    \n",
    "    return arr\n",
    "\n",
    "select_fight_row(data, 'GLOVER TEIXEIRA', 0) #  we get the last fight of Jon Jones, for example"
   ]
  },
  {
   "cell_type": "code",
   "execution_count": 16,
   "id": "ec7f38b6",
   "metadata": {},
   "outputs": [
    {
     "data": {
      "text/plain": [
       "1952"
      ]
     },
     "execution_count": 16,
     "metadata": {},
     "output_type": "execute_result"
    }
   ],
   "source": [
    "# GET ALL ACTIVE FIGHTERS ACCORDING TO THE LIMIT DATE\n",
    "\n",
    "def list_fighters(df):\n",
    "    \n",
    "    set_R, set_B = set(df['R_fighter']), set(df['B_fighter'])\n",
    "    \n",
    "    return list(set_R.union(set_B))\n",
    "\n",
    "fighters = list_fighters(data)\n",
    "\n",
    "len(fighters)"
   ]
  },
  {
   "cell_type": "code",
   "execution_count": 17,
   "id": "e5c688c1",
   "metadata": {},
   "outputs": [],
   "source": [
    "# FUNCTION FOR BUILD A DATAFRAME WHICH HAS LAST/FIRST/... FIGHTS OF SELECTED FIGHTERS\n",
    "\n",
    "def build_df(df, fighters, i):\n",
    "    \n",
    "    arr = [select_fight_row(df, fighters[f], i) for f in range(len(fighters)) if select_fight_row(df, fighters[f], i) is not None]\n",
    "    \n",
    "    cols = [col for col in df] \n",
    "    \n",
    "    df_fights = pd.DataFrame(data=arr, columns=cols)\n",
    "    \n",
    "    df_fights.drop_duplicates(inplace=True)\n",
    "    \n",
    "    df_fights['title_bout'] = df_fights['title_bout'].replace({True: 1, False: 0})\n",
    "    \n",
    "    df_fights.drop(['R_fighter', 'B_fighter', 'date'], axis=1, inplace=True)\n",
    "    \n",
    "    return df_fights\n",
    "\n",
    "df_train = build_df(data, fighters, 0)\n",
    "df_test = build_df(data, fighters, 1)"
   ]
  },
  {
   "cell_type": "code",
   "execution_count": 18,
   "id": "98f787cc",
   "metadata": {},
   "outputs": [
    {
     "data": {
      "text/plain": [
       "((1694, 65), (1490, 65))"
      ]
     },
     "execution_count": 18,
     "metadata": {},
     "output_type": "execute_result"
    }
   ],
   "source": [
    "df_train.shape, df_test.shape"
   ]
  },
  {
   "cell_type": "code",
   "execution_count": 19,
   "id": "18db0ee6",
   "metadata": {},
   "outputs": [
    {
     "name": "stdout",
     "output_type": "stream",
     "text": [
      "602\n",
      "1092\n",
      "520\n",
      "970\n"
     ]
    }
   ],
   "source": [
    "# AMOUNT OF WINNERS RED OR BLUE IN TRAIN AND TEST DATAFRAMES\n",
    "\n",
    "print(len(df_train[df_train['Winner'] == 'Blue']))\n",
    "print(len(df_train[df_train['Winner'] == 'Red']))\n",
    "\n",
    "print(len(df_test[df_test['Winner'] == 'Blue']))\n",
    "print(len(df_test[df_test['Winner'] == 'Red']))"
   ]
  },
  {
   "cell_type": "code",
   "execution_count": 20,
   "id": "d5103ced",
   "metadata": {},
   "outputs": [],
   "source": [
    "# TRANSFORM DATA FOR LabelEncoder TO OBJECT COLUMNS\n",
    "\n",
    "from sklearn.preprocessing import OrdinalEncoder, LabelEncoder\n",
    "from sklearn.compose import make_column_transformer\n",
    "\n",
    "preprocessor = make_column_transformer((OrdinalEncoder(), ['weight_class', 'B_Stance', 'R_Stance']),\n",
    "                                       remainder='passthrough')\n",
    "\n",
    "# If the winner is from the Red corner, Winner label will be encoded as 1, otherwise it will be 0 (Blue corner)\n",
    "\n",
    "label_encoder = LabelEncoder()\n",
    "\n",
    "y_train = label_encoder.fit_transform(df_train['Winner'])\n",
    "y_test = label_encoder.transform(df_test['Winner'])\n",
    "\n",
    "X_train, X_test = df_train.drop(['Winner'], axis=1), df_test.drop(['Winner'], axis=1)"
   ]
  },
  {
   "cell_type": "code",
   "execution_count": 21,
   "id": "8d1f7328",
   "metadata": {},
   "outputs": [
    {
     "name": "stdout",
     "output_type": "stream",
     "text": [
      "(1694, 64)\n",
      "(1694,)\n",
      "(1490, 64)\n",
      "(1490,)\n"
     ]
    }
   ],
   "source": [
    "print(X_train.shape)\n",
    "print(y_train.shape)\n",
    "\n",
    "print(X_test.shape)\n",
    "print(y_test.shape)"
   ]
  },
  {
   "cell_type": "code",
   "execution_count": 22,
   "id": "b1ee5528",
   "metadata": {},
   "outputs": [
    {
     "name": "stdout",
     "output_type": "stream",
     "text": [
      "Accuracy mean :  0.6892822025565387\n",
      "Accuracy standard deviation :  0.0036791124747039762\n",
      "Testing accuracy :  0.723489932885906 \n",
      "\n",
      "              precision    recall  f1-score   support\n",
      "\n",
      "        Blue       0.67      0.40      0.50       520\n",
      "         Red       0.74      0.90      0.81       970\n",
      "\n",
      "    accuracy                           0.72      1490\n",
      "   macro avg       0.71      0.65      0.66      1490\n",
      "weighted avg       0.71      0.72      0.70      1490\n",
      "\n"
     ]
    }
   ],
   "source": [
    "from sklearn.pipeline import Pipeline\n",
    "from sklearn.ensemble import RandomForestClassifier\n",
    "from sklearn.metrics import accuracy_score\n",
    "from sklearn.metrics import classification_report\n",
    "from sklearn.model_selection import cross_val_score\n",
    "\n",
    "# Random Forest composed of 100 decision trees.\n",
    "# We optimized parameters using cross-validation and GridSearch tool paired together\n",
    "random_forest = RandomForestClassifier(n_estimators=100, \n",
    "                                       criterion='entropy',   \n",
    "                                       random_state=42)\n",
    "\n",
    "model = Pipeline([('encoding', preprocessor), ('random_forest', random_forest)])\n",
    "model.fit(X_train, y_train)\n",
    "\n",
    "# We use cross-validation with 5-folds to have a more precise accuracy (reduce variation)\n",
    "accuracies = cross_val_score(estimator=model, X=X_train, y=y_train)\n",
    "print('Accuracy mean : ', np.nanmean(accuracies))\n",
    "print('Accuracy standard deviation : ', np.nanstd(accuracies))\n",
    "\n",
    "y_pred = model.predict(X_test)\n",
    "print('Testing accuracy : ', accuracy_score(y_test, y_pred), '\\n')\n",
    "\n",
    "target_names = [\"Blue\",\"Red\"]\n",
    "print(classification_report(y_test, y_pred, labels=[0,1], target_names=target_names))"
   ]
  },
  {
   "cell_type": "code",
   "execution_count": 23,
   "id": "e6aadb7b",
   "metadata": {},
   "outputs": [
    {
     "data": {
      "text/plain": [
       "\"from sklearn.model_selection import GridSearchCV\\nparameters = [{'random_forest__n_estimators': [10, 50, 100, 500, 1000],\\n               'random_forest__criterion': ['gini', 'entropy'],\\n               'random_forest__max_depth': [5, 10, 50],\\n               'random_forest__min_samples_split': [2, 3, 4],\\n               'random_forest__min_samples_leaf': [1, 2, 3],\\n              }]\\nmodel = Pipeline([('encoding', preprocessor), ('random_forest', RandomForestClassifier())])\\n\\ngrid_search = GridSearchCV(estimator=model, param_grid=parameters, scoring='accuracy', cv=5, n_jobs=-1)\\ngrid_search = grid_search.fit(X_train, y_train)\\nbest_accuracy = grid_search.best_score_\\n\\nbest_params = grid_search.best_params_\\nprint('Best accuracy : ', best_accuracy)\\nprint('Best parameters : ', best_params)\""
      ]
     },
     "execution_count": 23,
     "metadata": {},
     "output_type": "execute_result"
    }
   ],
   "source": [
    "'''from sklearn.model_selection import GridSearchCV\n",
    "parameters = [{'random_forest__n_estimators': [10, 50, 100, 500, 1000],\n",
    "               'random_forest__criterion': ['gini', 'entropy'],\n",
    "               'random_forest__max_depth': [5, 10, 50],\n",
    "               'random_forest__min_samples_split': [2, 3, 4],\n",
    "               'random_forest__min_samples_leaf': [1, 2, 3],\n",
    "              }]\n",
    "model = Pipeline([('encoding', preprocessor), ('random_forest', RandomForestClassifier())])\n",
    "\n",
    "grid_search = GridSearchCV(estimator=model, param_grid=parameters, scoring='accuracy', cv=5, n_jobs=-1)\n",
    "grid_search = grid_search.fit(X_train, y_train)\n",
    "best_accuracy = grid_search.best_score_\n",
    "\n",
    "best_params = grid_search.best_params_\n",
    "print('Best accuracy : ', best_accuracy)\n",
    "print('Best parameters : ', best_params)'''"
   ]
  },
  {
   "cell_type": "code",
   "execution_count": 24,
   "id": "5c65ed88",
   "metadata": {},
   "outputs": [
    {
     "data": {
      "text/plain": [
       "[Text(0, 0.5, 'Blue'), Text(0, 1.5, 'Red')]"
      ]
     },
     "execution_count": 24,
     "metadata": {},
     "output_type": "execute_result"
    },
    {
     "data": {
      "image/png": "[encoded data removed]",
      "text/plain": [
       "<Figure size 432x288 with 2 Axes>"
      ]
     },
     "metadata": {
      "needs_background": "light"
     },
     "output_type": "display_data"
    }
   ],
   "source": [
    "from sklearn.metrics import confusion_matrix\n",
    "\n",
    "cm = confusion_matrix(y_test, y_pred) \n",
    "ax = plt.subplot()\n",
    "sns.heatmap(cm, annot = True, ax = ax, fmt = \"d\")\n",
    "\n",
    "ax.set_xlabel('Actual')\n",
    "ax.set_ylabel('Predicted')\n",
    "ax.set_title(\"Confusion Matrix\")\n",
    "\n",
    "ax.xaxis.set_ticklabels(['Blue', 'Red'])\n",
    "ax.yaxis.set_ticklabels(['Blue', 'Red'])"
   ]
  },
  {
   "cell_type": "code",
   "execution_count": 25,
   "id": "6f2edc6e",
   "metadata": {},
   "outputs": [
    {
     "data": {
      "text/plain": [
       "'feature_names = [col for col in X_train]\\nfeature_importances = model[\\'random_forest\\'].feature_importances_\\nindices = np.argsort(feature_importances)[::-1]\\nn = 30 # maximum feature importances displayed\\nidx = indices[0:n] \\nstd = np.std([tree.feature_importances_ for tree in model[\\'random_forest\\'].estimators_], axis=0)\\n\\n#for f in range(n):\\n#    print(\"%d. feature %s (%f)\" % (f + 1, feature_names[idx[f]], feature_importances[idx[f]])) \\n\\nplt.figure(figsize=(30, 8))\\nplt.title(\"Feature importances\")\\nplt.bar(range(n), feature_importances[idx], color=\"r\", yerr=std[idx], align=\"center\")\\nplt.xticks(range(n), [feature_names[id] for id in idx], rotation = 45) \\nplt.xlim([-1, n]) \\nplt.show()'"
      ]
     },
     "execution_count": 25,
     "metadata": {},
     "output_type": "execute_result"
    }
   ],
   "source": [
    "'''feature_names = [col for col in X_train]\n",
    "feature_importances = model['random_forest'].feature_importances_\n",
    "indices = np.argsort(feature_importances)[::-1]\n",
    "n = 30 # maximum feature importances displayed\n",
    "idx = indices[0:n] \n",
    "std = np.std([tree.feature_importances_ for tree in model['random_forest'].estimators_], axis=0)\n",
    "\n",
    "#for f in range(n):\n",
    "#    print(\"%d. feature %s (%f)\" % (f + 1, feature_names[idx[f]], feature_importances[idx[f]])) \n",
    "\n",
    "plt.figure(figsize=(30, 8))\n",
    "plt.title(\"Feature importances\")\n",
    "plt.bar(range(n), feature_importances[idx], color=\"r\", yerr=std[idx], align=\"center\")\n",
    "plt.xticks(range(n), [feature_names[id] for id in idx], rotation = 45) \n",
    "plt.xlim([-1, n]) \n",
    "plt.show()'''"
   ]
  },
  {
   "cell_type": "code",
   "execution_count": 26,
   "id": "e8304353",
   "metadata": {},
   "outputs": [],
   "source": [
    "def predict(df, pipeline, blue_fighter, red_fighter, weightclass, rounds, title_bout=False): \n",
    "    \n",
    "    #We build two dataframes, one for each figther \n",
    "    f1 = df[(df['R_fighter'] == blue_fighter) | (df['B_fighter'] == blue_fighter)].copy()\n",
    "    f1.reset_index(drop=True, inplace=True)\n",
    "    f1 = f1[:1]\n",
    "    f2 = df[(df['R_fighter'] == red_fighter) | (df['B_fighter'] == red_fighter)].copy()\n",
    "    f2.reset_index(drop=True, inplace=True)\n",
    "    f2 = f2[:1]\n",
    "    \n",
    "    # if the fighter was red/blue corner on his last fight, we filter columns to only keep his statistics (and not the other fighter)\n",
    "    # then we rename columns according to the color of  the corner in the parameters using re.sub()\n",
    "    if (f1.loc[0, ['R_fighter']].values[0]) == blue_fighter:\n",
    "        result1 = f1.filter(regex='^R', axis=1).copy() #here we keep the red corner stats\n",
    "        result1.rename(columns = lambda x: re.sub('^R','B', x), inplace=True)  #we rename it with \"B_\" prefix because he's in the blue_corner\n",
    "    else: \n",
    "        result1 = f1.filter(regex='^B', axis=1).copy()\n",
    "    if (f2.loc[0, ['R_fighter']].values[0]) == red_fighter:\n",
    "        result2 = f2.filter(regex='^R', axis=1).copy()\n",
    "    else:\n",
    "        result2 = f2.filter(regex='^B', axis=1).copy()\n",
    "        result2.rename(columns = lambda x: re.sub('^B','R', x), inplace=True)\n",
    "        \n",
    "    fight = pd.concat([result1, result2], axis = 1) # we concatenate the red and blue fighter dataframes (in columns)\n",
    "    fight.drop(['R_fighter','B_fighter'], axis = 1, inplace = True) # we remove fighter names\n",
    "    fight.insert(0, 'title_bout', title_bout) # we add tittle_bout, weight class and number of rounds data to the dataframe\n",
    "    fight.insert(1, 'weight_class', weightclass)\n",
    "    fight.insert(2, 'no_of_rounds', rounds)\n",
    "    fight['title_bout'] = fight['title_bout'].replace({True: 1, False: 0})\n",
    "    \n",
    "    pred = pipeline.predict(fight)\n",
    "    proba = pipeline.predict_proba(fight)\n",
    "    if (pred == 1.0): \n",
    "        print(\"The predicted winner is\", red_fighter, 'with a probability of', round(proba[0][1] * 100, 2), \"%\")\n",
    "    else:\n",
    "        print(\"The predicted winner is\", blue_fighter, 'with a probability of ', round(proba[0][0] * 100, 2), \"%\")\n",
    "    return proba"
   ]
  },
  {
   "cell_type": "code",
   "execution_count": 27,
   "id": "2b8b0e3d",
   "metadata": {},
   "outputs": [
    {
     "name": "stdout",
     "output_type": "stream",
     "text": [
      "The predicted winner is GLOVER TEIXEIRA with a probability of 51.0 %\n"
     ]
    },
    {
     "data": {
      "text/plain": [
       "array([[0.49, 0.51]])"
      ]
     },
     "execution_count": 27,
     "metadata": {},
     "output_type": "execute_result"
    }
   ],
   "source": [
    "predict(data, model, 'JIRI PROCHAZKA', 'GLOVER TEIXEIRA', 'LightHeavyweight', 5, True) "
   ]
  },
  {
   "cell_type": "code",
   "execution_count": 28,
   "id": "5c162308",
   "metadata": {},
   "outputs": [
    {
     "name": "stdout",
     "output_type": "stream",
     "text": [
      "The predicted winner is JIRI PROCHAZKA with a probability of 75.0 %\n"
     ]
    },
    {
     "data": {
      "text/plain": [
       "array([[0.25, 0.75]])"
      ]
     },
     "execution_count": 28,
     "metadata": {},
     "output_type": "execute_result"
    }
   ],
   "source": [
    "predict(data, model, 'GLOVER TEIXEIRA', 'JIRI PROCHAZKA', 'LightHeavyweight', 5, True) "
   ]
  },
  {
   "cell_type": "code",
   "execution_count": 29,
   "id": "269fd237",
   "metadata": {},
   "outputs": [
    {
     "name": "stdout",
     "output_type": "stream",
     "text": [
      "The predicted winner is TAILA SANTOS with a probability of 71.0 %\n"
     ]
    },
    {
     "data": {
      "text/plain": [
       "array([[0.29, 0.71]])"
      ]
     },
     "execution_count": 29,
     "metadata": {},
     "output_type": "execute_result"
    }
   ],
   "source": [
    "predict(data, model, 'VALENTINA SHEVCHENKO', 'TAILA SANTOS', 'WomenFlyweight', 5, True) "
   ]
  },
  {
   "cell_type": "code",
   "execution_count": 30,
   "id": "f0fef637",
   "metadata": {},
   "outputs": [
    {
     "name": "stdout",
     "output_type": "stream",
     "text": [
      "The predicted winner is VALENTINA SHEVCHENKO with a probability of 64.0 %\n"
     ]
    },
    {
     "data": {
      "text/plain": [
       "array([[0.36, 0.64]])"
      ]
     },
     "execution_count": 30,
     "metadata": {},
     "output_type": "execute_result"
    }
   ],
   "source": [
    "predict(data, model, 'TAILA SANTOS', 'VALENTINA SHEVCHENKO', 'WomenFlyweight', 5, True) "
   ]
  },
  {
   "cell_type": "code",
   "execution_count": 31,
   "id": "8ca26445",
   "metadata": {},
   "outputs": [
    {
     "name": "stdout",
     "output_type": "stream",
     "text": [
      "The predicted winner is JARED CANNONIER with a probability of 64.0 %\n"
     ]
    },
    {
     "data": {
      "text/plain": [
       "array([[0.36, 0.64]])"
      ]
     },
     "execution_count": 31,
     "metadata": {},
     "output_type": "execute_result"
    }
   ],
   "source": [
    "predict(data, model, 'ISRAEL ADESANYA', 'JARED CANNONIER', 'Middleweight', 5, True) "
   ]
  },
  {
   "cell_type": "code",
   "execution_count": 32,
   "id": "7d0a22bc",
   "metadata": {},
   "outputs": [
    {
     "name": "stdout",
     "output_type": "stream",
     "text": [
      "The predicted winner is ISRAEL ADESANYA with a probability of 74.0 %\n"
     ]
    },
    {
     "data": {
      "text/plain": [
       "array([[0.26, 0.74]])"
      ]
     },
     "execution_count": 32,
     "metadata": {},
     "output_type": "execute_result"
    }
   ],
   "source": [
    "predict(data, model, 'JARED CANNONIER', 'ISRAEL ADESANYA', 'Middleweight', 5, True) "
   ]
  },
  {
   "cell_type": "code",
   "execution_count": 33,
   "id": "3d1e1431",
   "metadata": {},
   "outputs": [
    {
     "name": "stdout",
     "output_type": "stream",
     "text": [
      "The predicted winner is MAX HOLLOWAY with a probability of 59.0 %\n"
     ]
    },
    {
     "data": {
      "text/plain": [
       "array([[0.41, 0.59]])"
      ]
     },
     "execution_count": 33,
     "metadata": {},
     "output_type": "execute_result"
    }
   ],
   "source": [
    "predict(data, model, 'ALEXANDER VOLKANOVSKI', 'MAX HOLLOWAY', 'Featherweight', 5, True) "
   ]
  },
  {
   "cell_type": "code",
   "execution_count": 34,
   "id": "bf6df354",
   "metadata": {},
   "outputs": [
    {
     "name": "stdout",
     "output_type": "stream",
     "text": [
      "The predicted winner is ALEXANDER VOLKANOVSKI with a probability of 91.0 %\n"
     ]
    },
    {
     "data": {
      "text/plain": [
       "array([[0.09, 0.91]])"
      ]
     },
     "execution_count": 34,
     "metadata": {},
     "output_type": "execute_result"
    }
   ],
   "source": [
    "predict(data, model, 'MAX HOLLOWAY', 'ALEXANDER VOLKANOVSKI', 'Featherweight', 5, True) "
   ]
  },
  {
   "cell_type": "code",
   "execution_count": null,
   "id": "5cb29859",
   "metadata": {},
   "outputs": [],
   "source": []
  },
  {
   "cell_type": "code",
   "execution_count": null,
   "id": "f51f650c",
   "metadata": {},
   "outputs": [],
   "source": []
  },
  {
   "cell_type": "code",
   "execution_count": null,
   "id": "a381aca2",
   "metadata": {},
   "outputs": [],
   "source": []
  },
  {
   "cell_type": "code",
   "execution_count": null,
   "id": "80f76acf",
   "metadata": {},
   "outputs": [],
   "source": []
  },
  {
   "cell_type": "code",
   "execution_count": null,
   "id": "396d1bea",
   "metadata": {},
   "outputs": [],
   "source": []
  },
  {
   "cell_type": "code",
   "execution_count": 35,
   "id": "2071ea60",
   "metadata": {},
   "outputs": [
    {
     "data": {
      "text/plain": [
       "\"# buscando colinealidad\\n\\nplt.figure(figsize=(15, 10))\\n\\nsns.set(style='white')\\n\\nmask=np.triu(np.ones_like(data.corr(), dtype=bool))\\n\\ncmap=sns.diverging_palette(0, 10, as_cmap=True)\\n\\n\\nsns.heatmap(data.corr(),\\n           mask=mask,\\n          cmap=cmap,\\n          center=0,\\n          square=True,\\n          linewidths=0.5,\\n          cbar_kws={'shrink': 0.5},\\n           annot=True);\""
      ]
     },
     "execution_count": 35,
     "metadata": {},
     "output_type": "execute_result"
    }
   ],
   "source": [
    "'''# buscando colinealidad\n",
    "\n",
    "plt.figure(figsize=(15, 10))\n",
    "\n",
    "sns.set(style='white')\n",
    "\n",
    "mask=np.triu(np.ones_like(data.corr(), dtype=bool))\n",
    "\n",
    "cmap=sns.diverging_palette(0, 10, as_cmap=True)\n",
    "\n",
    "\n",
    "sns.heatmap(data.corr(),\n",
    "           mask=mask,\n",
    "          cmap=cmap,\n",
    "          center=0,\n",
    "          square=True,\n",
    "          linewidths=0.5,\n",
    "          cbar_kws={'shrink': 0.5},\n",
    "           annot=True);'''"
   ]
  },
  {
   "cell_type": "markdown",
   "id": "76bee954",
   "metadata": {},
   "source": [
    "### LOGISTIC REGRESSION AND RANDOM FOREST"
   ]
  },
  {
   "cell_type": "code",
   "execution_count": 36,
   "id": "e588cd20",
   "metadata": {},
   "outputs": [
    {
     "data": {
      "text/plain": [
       "\"# label encoding \\n\\nle=LabelEncoder()\\n\\nfor c in data.columns:\\n    \\n    if data.dtypes[c]==object:\\n        \\n        le.fit(data[c].astype(str))\\n        \\n        data[c]=le.transform(data[c].astype(str))\\n\\nX = data.drop('Winner', axis=1)\\n\\ny = data.Winner\\n\\nX_train, X_test, y_train, y_test = train_test_split(X, y, \\n                                                    test_size=0.2, train_size=0.8,\\n                                                    random_state=42)\\n\\nlogreg=LogisticRegression(max_iter=2000)\\n\\n# RMSE POR MODELO\\nmodels = [logreg, rfr]\\n\\nfor m in models:\\n    \\n    m.fit(X_train, y_train)\\n    y_pred = m.predict(X_test)\\n    \\n    print(f'RMSE Model {m}: {mse(y_test, y_pred, squared=False)}')\\n    print(f'R2 Model {m}: {r2(y_test, y_pred)}')\\n    \\nsum(y_pred==y_test)/y_pred.shape[0]*100\""
      ]
     },
     "execution_count": 36,
     "metadata": {},
     "output_type": "execute_result"
    }
   ],
   "source": [
    "'''# label encoding \n",
    "\n",
    "le=LabelEncoder()\n",
    "\n",
    "for c in data.columns:\n",
    "    \n",
    "    if data.dtypes[c]==object:\n",
    "        \n",
    "        le.fit(data[c].astype(str))\n",
    "        \n",
    "        data[c]=le.transform(data[c].astype(str))\n",
    "\n",
    "X = data.drop('Winner', axis=1)\n",
    "\n",
    "y = data.Winner\n",
    "\n",
    "X_train, X_test, y_train, y_test = train_test_split(X, y, \n",
    "                                                    test_size=0.2, train_size=0.8,\n",
    "                                                    random_state=42)\n",
    "\n",
    "logreg=LogisticRegression(max_iter=2000)\n",
    "\n",
    "# RMSE POR MODELO\n",
    "models = [logreg, rfr]\n",
    "\n",
    "for m in models:\n",
    "    \n",
    "    m.fit(X_train, y_train)\n",
    "    y_pred = m.predict(X_test)\n",
    "    \n",
    "    print(f'RMSE Model {m}: {mse(y_test, y_pred, squared=False)}')\n",
    "    print(f'R2 Model {m}: {r2(y_test, y_pred)}')\n",
    "    \n",
    "sum(y_pred==y_test)/y_pred.shape[0]*100'''"
   ]
  },
  {
   "cell_type": "markdown",
   "id": "3d1985fa",
   "metadata": {},
   "source": [
    "### H2O"
   ]
  },
  {
   "cell_type": "code",
   "execution_count": 37,
   "id": "bd9a858b",
   "metadata": {},
   "outputs": [
    {
     "data": {
      "text/plain": [
       "\"train = data.iloc[:4580]\\n\\ntest = data.iloc[4580:].drop('Winner', axis=1)\\n\\ntrain.shape, test.shape\""
      ]
     },
     "execution_count": 37,
     "metadata": {},
     "output_type": "execute_result"
    }
   ],
   "source": [
    "'''train = data.iloc[:4580]\n",
    "\n",
    "test = data.iloc[4580:].drop('Winner', axis=1)\n",
    "\n",
    "train.shape, test.shape'''"
   ]
  },
  {
   "cell_type": "code",
   "execution_count": 38,
   "id": "db792db3",
   "metadata": {},
   "outputs": [
    {
     "data": {
      "text/plain": [
       "\"# H2O\\n\\nh2o.init()\\n\\n# parsear datos para h20\\n\\nh2train=h2o.H2OFrame(train)\\n\\nh2test=h2o.H2OFrame(test)\\n\\nX=[c for c in h2train.columns if c!='Winner']\\n\\ny='Winner'\\n\\n# inicia auto-machine-learning\\n\\nautoml=H2OAutoML(max_models=50,\\n                 seed=42,\\n                 max_runtime_secs=300,\\n                 sort_metric='RMSE')\""
      ]
     },
     "execution_count": 38,
     "metadata": {},
     "output_type": "execute_result"
    }
   ],
   "source": [
    "'''# H2O\n",
    "\n",
    "h2o.init()\n",
    "\n",
    "# parsear datos para h20\n",
    "\n",
    "h2train=h2o.H2OFrame(train)\n",
    "\n",
    "h2test=h2o.H2OFrame(test)\n",
    "\n",
    "X=[c for c in h2train.columns if c!='Winner']\n",
    "\n",
    "y='Winner'\n",
    "\n",
    "# inicia auto-machine-learning\n",
    "\n",
    "automl=H2OAutoML(max_models=50,\n",
    "                 seed=42,\n",
    "                 max_runtime_secs=300,\n",
    "                 sort_metric='RMSE')'''"
   ]
  },
  {
   "cell_type": "code",
   "execution_count": 39,
   "id": "303ff159",
   "metadata": {},
   "outputs": [
    {
     "data": {
      "text/plain": [
       "'# entrena\\n\\nautoml.train(x=X,\\n             y=y,\\n             training_frame=h2train)'"
      ]
     },
     "execution_count": 39,
     "metadata": {},
     "output_type": "execute_result"
    }
   ],
   "source": [
    "'''# entrena\n",
    "\n",
    "automl.train(x=X,\n",
    "             y=y,\n",
    "             training_frame=h2train)'''"
   ]
  },
  {
   "cell_type": "code",
   "execution_count": 40,
   "id": "9004bd25",
   "metadata": {},
   "outputs": [
    {
     "data": {
      "text/plain": [
       "'# prediciones del lider\\n\\ny_pred = automl.leader.predict(h2test)\\n\\ny_pred = y_pred.as_data_frame()\\n\\ny_pred'"
      ]
     },
     "execution_count": 40,
     "metadata": {},
     "output_type": "execute_result"
    }
   ],
   "source": [
    "'''# prediciones del lider\n",
    "\n",
    "y_pred = automl.leader.predict(h2test)\n",
    "\n",
    "y_pred = y_pred.as_data_frame()\n",
    "\n",
    "y_pred'''"
   ]
  },
  {
   "cell_type": "code",
   "execution_count": null,
   "id": "c9063684",
   "metadata": {},
   "outputs": [],
   "source": []
  },
  {
   "cell_type": "code",
   "execution_count": null,
   "id": "c00e55a0",
   "metadata": {},
   "outputs": [],
   "source": []
  }
 ],
 "metadata": {
  "kernelspec": {
   "display_name": "Python 3 (ipykernel)",
   "language": "python",
   "name": "python3"
  },
  "language_info": {
   "codemirror_mode": {
    "name": "ipython",
    "version": 3
   },
   "file_extension": ".py",
   "mimetype": "text/x-python",
   "name": "python",
   "nbconvert_exporter": "python",
   "pygments_lexer": "ipython3",
   "version": "3.9.7"
  }
 },
 "nbformat": 4,
 "nbformat_minor": 5
}
