{
 "cells": [
  {
   "cell_type": "code",
   "execution_count": null,
   "id": "fdcb03e1",
   "metadata": {},
   "outputs": [],
   "source": [
    "# BASIC IMPORTS\n",
    "import sys\n",
    "sys.path.append(r'..\\src')\n",
    "\n",
    "import pandas as pd\n",
    "\n",
    "import pylab as plt\n",
    "\n",
    "import seaborn as sns\n",
    "\n",
    "import numpy as np\n",
    "\n",
    "import re\n",
    "\n",
    "from src import getGraphic\n",
    "from ufc_fights import set_names_upper, set_name_winner, fix_columns, set_nan_columns, add_fighterid\n",
    "from ufc_fighters import load_ufc, set_fighter_upper, clean_fighters"
   ]
  },
  {
   "cell_type": "code",
   "execution_count": null,
   "id": "1f421505",
   "metadata": {},
   "outputs": [],
   "source": [
    "# MACHINE LEARNING IMPORTS\n",
    "from sklearn.model_selection import train_test_split\n",
    "from sklearn.linear_model import LogisticRegression\n",
    "from sklearn.ensemble import RandomForestRegressor as RFR\n",
    "rfr=RFR()\n",
    "\n",
    "from sklearn.preprocessing import LabelEncoder\n",
    "\n",
    "from sklearn.metrics import mean_squared_error as mse\n",
    "from sklearn.metrics import r2_score as r2\n",
    "\n",
    "import h2o\n",
    "from h2o.automl import H2OAutoML"
   ]
  },
  {
   "cell_type": "code",
   "execution_count": null,
   "id": "e573b6bd",
   "metadata": {},
   "outputs": [],
   "source": [
    "fighter = pd.read_csv(r'..\\data\\raw_fighter_details.csv')\n",
    "\n",
    "data = pd.read_csv(r'..\\data\\data.csv')\n",
    "\n",
    "ufc_fighters = pd.read_csv(r'..\\data\\ufc_fighters_official.csv')\n",
    "\n",
    "ufc_odds = pd.read_csv('../data/ufc_odds.csv')"
   ]
  },
  {
   "cell_type": "markdown",
   "id": "7fb926cb",
   "metadata": {},
   "source": [
    "# TABLA LUCHADORES"
   ]
  },
  {
   "cell_type": "code",
   "execution_count": null,
   "id": "9f1e069d",
   "metadata": {},
   "outputs": [],
   "source": [
    "'''set_fighter_upper(fighter)\n",
    "\n",
    "fighters = clean_fighters(fighter, ufc_fighters)\n",
    "\n",
    "fighters'''"
   ]
  },
  {
   "cell_type": "markdown",
   "id": "03bca6f4",
   "metadata": {},
   "source": [
    "# TABLA FIGHTS"
   ]
  },
  {
   "cell_type": "code",
   "execution_count": null,
   "id": "82a90a70",
   "metadata": {},
   "outputs": [],
   "source": [
    "data.info()"
   ]
  },
  {
   "cell_type": "code",
   "execution_count": null,
   "id": "4718ea22",
   "metadata": {},
   "outputs": [],
   "source": [
    "data.head()"
   ]
  },
  {
   "cell_type": "code",
   "execution_count": null,
   "id": "6c5ba4a1",
   "metadata": {},
   "outputs": [],
   "source": [
    "# Las reglas oficiales de la UFC no entraron hasta el año 2001, así que solo cogemos combates por encima del año 2002\n",
    "data = data[data.date>'2002-01-01']\n",
    "# B_draw y R_draw son columnas con todos los valores 0\n",
    "data = data.drop(['B_draw','R_draw'], axis=1)\n",
    "# Eliminamos DRAW en Winner para ir probando\n",
    "data = data[data.Winner!='Draw']\n",
    "# Eliminamos la columna LOCATION\n",
    "data = data.drop('location', axis=1)"
   ]
  },
  {
   "cell_type": "code",
   "execution_count": null,
   "id": "b6c1bca0",
   "metadata": {},
   "outputs": [],
   "source": [
    "set_names_upper(data)\n",
    "\n",
    "data.head()"
   ]
  },
  {
   "cell_type": "code",
   "execution_count": null,
   "id": "55995b98",
   "metadata": {},
   "outputs": [],
   "source": [
    "'''set_name_winner(data)\n",
    "\n",
    "data.head()'''"
   ]
  },
  {
   "cell_type": "code",
   "execution_count": null,
   "id": "7fb53e6e",
   "metadata": {},
   "outputs": [],
   "source": [
    "fix_columns(data)\n",
    "\n",
    "data"
   ]
  },
  {
   "cell_type": "code",
   "execution_count": null,
   "id": "2167b7d7",
   "metadata": {
    "scrolled": true
   },
   "outputs": [],
   "source": [
    "set_nan_columns(data)\n",
    "\n",
    "data"
   ]
  },
  {
   "cell_type": "code",
   "execution_count": null,
   "id": "3ca2ee38",
   "metadata": {},
   "outputs": [],
   "source": [
    "data = data.drop('fight_id', axis=1)"
   ]
  },
  {
   "cell_type": "code",
   "execution_count": null,
   "id": "7a469e2f",
   "metadata": {},
   "outputs": [],
   "source": [
    "# ¿Borrar filas donde weight_class es CATCHWEIGHT?"
   ]
  },
  {
   "cell_type": "code",
   "execution_count": null,
   "id": "56f7f7ba",
   "metadata": {},
   "outputs": [],
   "source": [
    "# AÑADIR ÚLTIMOS COMBATES PROCHAZKA Y TEIXEIRA\n",
    "\n",
    "jp = {'R_fighter':'DOMINICK REYES', 'B_fighter':'JIRI PROCHAZKA', 'date':'2021-05-01', 'Winner':'Blue', 'title_bout':False,\n",
    "      'weight_class':'LightHeavyweight', 'B_avg_KD':, 'B_avg_SIG_STR_pct', 'B_avg_TD_pct',\n",
    "       'B_avg_SUB_ATT', 'B_avg_REV', 'B_avg_TD_att', 'B_avg_TD_landed',\n",
    "       'B_avg_CTRL_time', 'B_total_time_fought', 'B_total_rounds_fought',\n",
    "       'B_total_title_bouts', 'B_wins', 'B_losses',\n",
    "       'B_win_by_Decision_Majority', 'B_win_by_Decision_Split',\n",
    "       'B_win_by_Decision_Unanimous', 'B_win_by_KO/TKO', 'B_win_by_Submission',\n",
    "       'B_win_by_TKO_Doctor_Stoppage', 'B_Stance', 'B_Height_cms',\n",
    "       'B_Reach_cms', 'B_Weight_lbs', 'R_avg_KD', 'R_avg_SIG_STR_pct',\n",
    "       'R_avg_TD_pct', 'R_avg_SUB_ATT', 'R_avg_REV', 'R_avg_TD_att',\n",
    "       'R_avg_TD_landed', 'R_avg_CTRL_time', 'R_total_time_fought',\n",
    "       'R_total_rounds_fought', 'R_total_title_bouts', 'R_wins', 'R_losses',\n",
    "       'R_win_by_Decision_Majority', 'R_win_by_Decision_Split',\n",
    "       'R_win_by_Decision_Unanimous', 'R_win_by_KO/TKO', 'R_win_by_Submission',\n",
    "       'R_win_by_TKO_Doctor_Stoppage', 'R_Stance', 'R_Height_cms',\n",
    "       'R_Reach_cms', 'R_Weight_lbs', 'B_age', 'R_age', 'B_PCT_STRIKES',\n",
    "       'R_PCT_STRIKES', 'B_PCT_HEAD', 'R_PCT_HEAD', 'B_PCT_BODY', 'R_PCT_BODY',\n",
    "       'B_PCT_LEG', 'R_PCT_LEG', 'B_PCT_DISTANCE', 'R_PCT_DISTANCE',\n",
    "       'B_PCT_CLINCH', 'R_PCT_CLINCH', 'B_PCT_GROUND', 'R_PCT_GROUND'}"
   ]
  },
  {
   "cell_type": "code",
   "execution_count": null,
   "id": "415aeda9",
   "metadata": {},
   "outputs": [],
   "source": [
    "data.B_avg_KD"
   ]
  },
  {
   "cell_type": "code",
   "execution_count": null,
   "id": "2f335035",
   "metadata": {},
   "outputs": [],
   "source": []
  },
  {
   "cell_type": "code",
   "execution_count": null,
   "id": "53a00e6a",
   "metadata": {},
   "outputs": [],
   "source": []
  },
  {
   "cell_type": "code",
   "execution_count": null,
   "id": "1dcc3811",
   "metadata": {},
   "outputs": [],
   "source": []
  },
  {
   "cell_type": "code",
   "execution_count": null,
   "id": "06f73f5e",
   "metadata": {
    "scrolled": false
   },
   "outputs": [],
   "source": [
    "'''plt.figure(figsize=(50, 40))\n",
    "\n",
    "corr_matrix = data.iloc[:,:].corr(method = 'pearson').abs()\n",
    "\n",
    "sns.heatmap(corr_matrix, annot=True)'''"
   ]
  },
  {
   "cell_type": "code",
   "execution_count": null,
   "id": "70516d99",
   "metadata": {
    "scrolled": true
   },
   "outputs": [],
   "source": [
    "'''correlations = (corr_matrix.where(np.triu(np.ones(corr_matrix.shape), k=1).astype(np.bool)).stack()\n",
    "                    .sort_values(ascending=False))\n",
    "print(correlations[:10])'''"
   ]
  },
  {
   "cell_type": "code",
   "execution_count": null,
   "id": "74c0210f",
   "metadata": {},
   "outputs": [],
   "source": [
    "# FUNCTION FOR SELECT THE LAST OR FIRST FIGHT OF A CONCRETE FIGHTER\n",
    "\n",
    "#  i = index of the fighter's fight, 0 means the last fight, -1 means first fight\n",
    "def select_fight_row(df, name, i): \n",
    "    \n",
    "    df_temp = df[(df['R_fighter'] == name) | (df['B_fighter'] == name)]  # filter df on fighter's name\n",
    "    \n",
    "    df_temp.reset_index(drop=True, inplace=True) #  as we created a new temporary dataframe, we have to reset indexes\n",
    "    \n",
    "    idx = max(df_temp.index)  #  get the index of the oldest fight\n",
    "    \n",
    "    if i > idx:  #  if we are looking for a fight that didn't exist, we return nothing\n",
    "        \n",
    "        return\n",
    "    \n",
    "    arr = df_temp.iloc[i].values\n",
    "    \n",
    "    return arr\n",
    "\n",
    "select_fight_row(data, 'GLOVER TEIXEIRA', 0) #  we get the last fight of Jon Jones, for example"
   ]
  },
  {
   "cell_type": "code",
   "execution_count": null,
   "id": "ec7f38b6",
   "metadata": {},
   "outputs": [],
   "source": [
    "# GET ALL ACTIVE FIGHTERS ACCORDING TO THE LIMIT DATE\n",
    "\n",
    "def list_fighters(df, limit_date):\n",
    "    \n",
    "    df_temp = df[df['date'] > limit_date]\n",
    "    \n",
    "    set_R = set(df_temp['R_fighter'])\n",
    "    set_B = set(df_temp['B_fighter'])\n",
    "    \n",
    "    fighters = list(set_R.union(set_B))\n",
    "    \n",
    "    return fighters\n",
    "\n",
    "fighters = list_fighters(data, '2002-01-01')\n",
    "len(fighters)"
   ]
  },
  {
   "cell_type": "code",
   "execution_count": null,
   "id": "e5c688c1",
   "metadata": {},
   "outputs": [],
   "source": [
    "# FUNCTION FOR BUILD A DATAFRAME WHICH HAS LAST/FIRST/... FIGHTS OF SELECTED FIGHTERS\n",
    "\n",
    "def build_df(df, fighters, i):\n",
    "    \n",
    "    arr = [select_fight_row(df, fighters[f], i) for f in range(len(fighters)) if select_fight_row(df, fighters[f], i) is not None]\n",
    "    \n",
    "    cols = [col for col in df] \n",
    "    \n",
    "    df_fights = pd.DataFrame(data=arr, columns=cols)\n",
    "    \n",
    "    df_fights.drop_duplicates(inplace=True)\n",
    "    \n",
    "    df_fights['title_bout'] = df_fights['title_bout'].replace({True: 1, False: 0})\n",
    "    \n",
    "    df_fights.drop(['R_fighter', 'B_fighter', 'date'], axis=1, inplace=True)\n",
    "    \n",
    "    return df_fights\n",
    "\n",
    "df_train = build_df(data, fighters, 0)\n",
    "df_test = build_df(data, fighters, 1)"
   ]
  },
  {
   "cell_type": "code",
   "execution_count": null,
   "id": "98f787cc",
   "metadata": {},
   "outputs": [],
   "source": [
    "df_train.shape, df_test.shape"
   ]
  },
  {
   "cell_type": "code",
   "execution_count": null,
   "id": "18db0ee6",
   "metadata": {},
   "outputs": [],
   "source": [
    "# AMOUNT OF WINNERS RED OR BLUE IN TRAIN AND TEST DATAFRAMES\n",
    "\n",
    "print(len(df_train[df_train['Winner'] == 'Blue']))\n",
    "print(len(df_train[df_train['Winner'] == 'Red']))\n",
    "\n",
    "print(len(df_test[df_test['Winner'] == 'Blue']))\n",
    "print(len(df_test[df_test['Winner'] == 'Red']))"
   ]
  },
  {
   "cell_type": "code",
   "execution_count": null,
   "id": "d5103ced",
   "metadata": {},
   "outputs": [],
   "source": [
    "# TRANSFORM DATA FOR LabelEncoder TO OBJECT COLUMNS\n",
    "\n",
    "from sklearn.preprocessing import OrdinalEncoder, LabelEncoder\n",
    "from sklearn.compose import make_column_transformer\n",
    "\n",
    "preprocessor = make_column_transformer((OrdinalEncoder(), ['weight_class', 'B_Stance', 'R_Stance']),\n",
    "                                       remainder='passthrough')\n",
    "\n",
    "# If the winner is from the Red corner, Winner label will be encoded as 1, otherwise it will be 0 (Blue corner)\n",
    "\n",
    "label_encoder = LabelEncoder()\n",
    "\n",
    "y_train = label_encoder.fit_transform(df_train['Winner'])\n",
    "y_test = label_encoder.transform(df_test['Winner'])\n",
    "\n",
    "X_train, X_test = df_train.drop(['Winner'], axis=1), df_test.drop(['Winner'], axis=1)"
   ]
  },
  {
   "cell_type": "code",
   "execution_count": null,
   "id": "8d1f7328",
   "metadata": {},
   "outputs": [],
   "source": [
    "print(X_train.shape)\n",
    "print(y_train.shape)\n",
    "\n",
    "print(X_test.shape)\n",
    "print(y_test.shape)"
   ]
  },
  {
   "cell_type": "code",
   "execution_count": null,
   "id": "b1ee5528",
   "metadata": {},
   "outputs": [],
   "source": [
    "from sklearn.pipeline import Pipeline\n",
    "from sklearn.ensemble import RandomForestClassifier\n",
    "from sklearn.metrics import accuracy_score\n",
    "from sklearn.metrics import classification_report\n",
    "from sklearn.model_selection import cross_val_score\n",
    "\n",
    "# Random Forest composed of 100 decision trees.\n",
    "# We optimized parameters using cross-validation and GridSearch tool paired together\n",
    "random_forest = RandomForestClassifier(n_estimators=100, \n",
    "                                       criterion='entropy',   \n",
    "                                       random_state=42)\n",
    "\n",
    "model = Pipeline([('encoding', preprocessor), ('random_forest', random_forest)])\n",
    "model.fit(X_train, y_train)\n",
    "\n",
    "# We use cross-validation with 5-folds to have a more precise accuracy (reduce variation)\n",
    "accuracies = cross_val_score(estimator=model, X=X_train, y=y_train)\n",
    "print('Accuracy mean : ', accuracies)\n",
    "print('Accuracy standard deviation : ', accuracies)\n",
    "\n",
    "y_pred = model.predict(X_test)\n",
    "print('Testing accuracy : ', accuracy_score(y_test, y_pred), '\\n')\n",
    "\n",
    "target_names = [\"Blue\",\"Red\"]\n",
    "print(classification_report(y_test, y_pred, labels=[0,1], target_names=target_names))"
   ]
  },
  {
   "cell_type": "code",
   "execution_count": null,
   "id": "e6aadb7b",
   "metadata": {},
   "outputs": [],
   "source": [
    "'''from sklearn.model_selection import GridSearchCV\n",
    "parameters = [{'random_forest__n_estimators': [10, 50, 100, 500, 1000],\n",
    "               'random_forest__criterion': ['gini', 'entropy'],\n",
    "               'random_forest__max_depth': [5, 10, 50],\n",
    "               'random_forest__min_samples_split': [2, 3, 4],\n",
    "               'random_forest__min_samples_leaf': [1, 2, 3],\n",
    "              }]\n",
    "model = Pipeline([('encoding', preprocessor), ('random_forest', RandomForestClassifier())])\n",
    "\n",
    "grid_search = GridSearchCV(estimator=model, param_grid=parameters, scoring='accuracy', cv=5, n_jobs=-1)\n",
    "grid_search = grid_search.fit(X_train, y_train)\n",
    "best_accuracy = grid_search.best_score_\n",
    "\n",
    "best_params = grid_search.best_params_\n",
    "print('Best accuracy : ', best_accuracy)\n",
    "print('Best parameters : ', best_params)'''"
   ]
  },
  {
   "cell_type": "code",
   "execution_count": null,
   "id": "5c65ed88",
   "metadata": {},
   "outputs": [],
   "source": [
    "from sklearn.metrics import confusion_matrix\n",
    "\n",
    "cm = confusion_matrix(y_test, y_pred) \n",
    "ax = plt.subplot()\n",
    "sns.heatmap(cm, annot = True, ax = ax, fmt = \"d\")\n",
    "\n",
    "ax.set_xlabel('Actual')\n",
    "ax.set_ylabel('Predicted')\n",
    "ax.set_title(\"Confusion Matrix\")\n",
    "\n",
    "ax.xaxis.set_ticklabels(['Blue', 'Red'])\n",
    "ax.yaxis.set_ticklabels(['Blue', 'Red'])"
   ]
  },
  {
   "cell_type": "code",
   "execution_count": null,
   "id": "6f2edc6e",
   "metadata": {},
   "outputs": [],
   "source": [
    "'''feature_names = [col for col in X_train]\n",
    "feature_importances = model['random_forest'].feature_importances_\n",
    "indices = np.argsort(feature_importances)[::-1]\n",
    "n = 30 # maximum feature importances displayed\n",
    "idx = indices[0:n] \n",
    "std = np.std([tree.feature_importances_ for tree in model['random_forest'].estimators_], axis=0)\n",
    "\n",
    "#for f in range(n):\n",
    "#    print(\"%d. feature %s (%f)\" % (f + 1, feature_names[idx[f]], feature_importances[idx[f]])) \n",
    "\n",
    "plt.figure(figsize=(30, 8))\n",
    "plt.title(\"Feature importances\")\n",
    "plt.bar(range(n), feature_importances[idx], color=\"r\", yerr=std[idx], align=\"center\")\n",
    "plt.xticks(range(n), [feature_names[id] for id in idx], rotation = 45) \n",
    "plt.xlim([-1, n]) \n",
    "plt.show()'''"
   ]
  },
  {
   "cell_type": "code",
   "execution_count": null,
   "id": "e8304353",
   "metadata": {},
   "outputs": [],
   "source": [
    "def predict(df, pipeline, blue_fighter, red_fighter, weightclass, rounds, title_bout=False): \n",
    "    \n",
    "    #We build two dataframes, one for each figther \n",
    "    f1 = df[(df['R_fighter'] == blue_fighter) | (df['B_fighter'] == blue_fighter)].copy()\n",
    "    f1.reset_index(drop=True, inplace=True)\n",
    "    f1 = f1[:1]\n",
    "    f2 = df[(df['R_fighter'] == red_fighter) | (df['B_fighter'] == red_fighter)].copy()\n",
    "    f2.reset_index(drop=True, inplace=True)\n",
    "    f2 = f2[:1]\n",
    "    \n",
    "    # if the fighter was red/blue corner on his last fight, we filter columns to only keep his statistics (and not the other fighter)\n",
    "    # then we rename columns according to the color of  the corner in the parameters using re.sub()\n",
    "    if (f1.loc[0, ['R_fighter']].values[0]) == blue_fighter:\n",
    "        result1 = f1.filter(regex='^R', axis=1).copy() #here we keep the red corner stats\n",
    "        result1.rename(columns = lambda x: re.sub('^R','B', x), inplace=True)  #we rename it with \"B_\" prefix because he's in the blue_corner\n",
    "    else: \n",
    "        result1 = f1.filter(regex='^B', axis=1).copy()\n",
    "    if (f2.loc[0, ['R_fighter']].values[0]) == red_fighter:\n",
    "        result2 = f2.filter(regex='^R', axis=1).copy()\n",
    "    else:\n",
    "        result2 = f2.filter(regex='^B', axis=1).copy()\n",
    "        result2.rename(columns = lambda x: re.sub('^B','R', x), inplace=True)\n",
    "        \n",
    "    fight = pd.concat([result1, result2], axis = 1) # we concatenate the red and blue fighter dataframes (in columns)\n",
    "    fight.drop(['R_fighter','B_fighter'], axis = 1, inplace = True) # we remove fighter names\n",
    "    fight.insert(0, 'title_bout', title_bout) # we add tittle_bout, weight class and number of rounds data to the dataframe\n",
    "    fight.insert(1, 'weight_class', weightclass)\n",
    "    fight.insert(2, 'no_of_rounds', rounds)\n",
    "    fight['title_bout'] = fight['title_bout'].replace({True: 1, False: 0})\n",
    "    \n",
    "    pred = pipeline.predict(fight)\n",
    "    proba = pipeline.predict_proba(fight)\n",
    "    if (pred == 1.0): \n",
    "        print(\"The predicted winner is\", red_fighter, 'with a probability of', round(proba[0][1] * 100, 2), \"%\")\n",
    "    else:\n",
    "        print(\"The predicted winner is\", blue_fighter, 'with a probability of ', round(proba[0][0] * 100, 2), \"%\")\n",
    "    return proba"
   ]
  },
  {
   "cell_type": "code",
   "execution_count": null,
   "id": "2b8b0e3d",
   "metadata": {},
   "outputs": [],
   "source": [
    "predict(data, model, 'JIRI PROCHAZKA', 'GLOVER TEIXEIRA', 'LightHeavyweight', 5, True) "
   ]
  },
  {
   "cell_type": "code",
   "execution_count": null,
   "id": "5c162308",
   "metadata": {},
   "outputs": [],
   "source": [
    "predict(data, model, 'GLOVER TEIXEIRA', 'JIRI PROCHAZKA', 'LightHeavyweight', 5, True) "
   ]
  },
  {
   "cell_type": "code",
   "execution_count": null,
   "id": "269fd237",
   "metadata": {},
   "outputs": [],
   "source": [
    "predict(data, model, 'VALENTINA SHEVCHENKO', 'TAILA SANTOS', 'WomenFlyweight', 5, True) "
   ]
  },
  {
   "cell_type": "code",
   "execution_count": null,
   "id": "f0fef637",
   "metadata": {},
   "outputs": [],
   "source": [
    "predict(data, model, 'TAILA SANTOS', 'VALENTINA SHEVCHENKO', 'WomenFlyweight', 5, True) "
   ]
  },
  {
   "cell_type": "code",
   "execution_count": null,
   "id": "e69bc257",
   "metadata": {},
   "outputs": [],
   "source": [
    "predict(data, model, 'ISRAEL ADESANYA', 'JARED CANNONIER', 'Middleweight', 5, True) "
   ]
  },
  {
   "cell_type": "code",
   "execution_count": null,
   "id": "e7bc561c",
   "metadata": {},
   "outputs": [],
   "source": [
    "predict(data, model, 'JARED CANNONIER', 'ISRAEL ADESANYA', 'Middleweight', 5, True) "
   ]
  },
  {
   "cell_type": "code",
   "execution_count": null,
   "id": "c9f19c59",
   "metadata": {},
   "outputs": [],
   "source": [
    "predict(data, model, 'ALEXANDER VOLKANOVSKI', 'MAX HOLLOWAY', 'Featherweight', 5, True) "
   ]
  },
  {
   "cell_type": "code",
   "execution_count": null,
   "id": "924ff398",
   "metadata": {},
   "outputs": [],
   "source": [
    "predict(data, model, 'MAX HOLLOWAY', 'ALEXANDER VOLKANOVSKI', 'Featherweight', 5, True) "
   ]
  },
  {
   "cell_type": "code",
   "execution_count": null,
   "id": "5cb29859",
   "metadata": {},
   "outputs": [],
   "source": []
  },
  {
   "cell_type": "code",
   "execution_count": null,
   "id": "f51f650c",
   "metadata": {},
   "outputs": [],
   "source": []
  },
  {
   "cell_type": "code",
   "execution_count": null,
   "id": "a381aca2",
   "metadata": {},
   "outputs": [],
   "source": []
  },
  {
   "cell_type": "code",
   "execution_count": null,
   "id": "80f76acf",
   "metadata": {},
   "outputs": [],
   "source": []
  },
  {
   "cell_type": "code",
   "execution_count": null,
   "id": "396d1bea",
   "metadata": {},
   "outputs": [],
   "source": []
  },
  {
   "cell_type": "code",
   "execution_count": null,
   "id": "2071ea60",
   "metadata": {},
   "outputs": [],
   "source": [
    "'''# buscando colinealidad\n",
    "\n",
    "plt.figure(figsize=(15, 10))\n",
    "\n",
    "sns.set(style='white')\n",
    "\n",
    "mask=np.triu(np.ones_like(data.corr(), dtype=bool))\n",
    "\n",
    "cmap=sns.diverging_palette(0, 10, as_cmap=True)\n",
    "\n",
    "\n",
    "sns.heatmap(data.corr(),\n",
    "           mask=mask,\n",
    "          cmap=cmap,\n",
    "          center=0,\n",
    "          square=True,\n",
    "          linewidths=0.5,\n",
    "          cbar_kws={'shrink': 0.5},\n",
    "           annot=True);'''"
   ]
  },
  {
   "cell_type": "markdown",
   "id": "76bee954",
   "metadata": {},
   "source": [
    "### LOGISTIC REGRESSION AND RANDOM FOREST"
   ]
  },
  {
   "cell_type": "code",
   "execution_count": null,
   "id": "e588cd20",
   "metadata": {},
   "outputs": [],
   "source": [
    "'''# label encoding \n",
    "\n",
    "le=LabelEncoder()\n",
    "\n",
    "for c in data.columns:\n",
    "    \n",
    "    if data.dtypes[c]==object:\n",
    "        \n",
    "        le.fit(data[c].astype(str))\n",
    "        \n",
    "        data[c]=le.transform(data[c].astype(str))\n",
    "\n",
    "X = data.drop('Winner', axis=1)\n",
    "\n",
    "y = data.Winner\n",
    "\n",
    "X_train, X_test, y_train, y_test = train_test_split(X, y, \n",
    "                                                    test_size=0.2, train_size=0.8,\n",
    "                                                    random_state=42)\n",
    "\n",
    "logreg=LogisticRegression(max_iter=2000)\n",
    "\n",
    "# RMSE POR MODELO\n",
    "models = [logreg, rfr]\n",
    "\n",
    "for m in models:\n",
    "    \n",
    "    m.fit(X_train, y_train)\n",
    "    y_pred = m.predict(X_test)\n",
    "    \n",
    "    print(f'RMSE Model {m}: {mse(y_test, y_pred, squared=False)}')\n",
    "    print(f'R2 Model {m}: {r2(y_test, y_pred)}')\n",
    "    \n",
    "sum(y_pred==y_test)/y_pred.shape[0]*100'''"
   ]
  },
  {
   "cell_type": "markdown",
   "id": "3d1985fa",
   "metadata": {},
   "source": [
    "### H2O"
   ]
  },
  {
   "cell_type": "code",
   "execution_count": null,
   "id": "bd9a858b",
   "metadata": {},
   "outputs": [],
   "source": [
    "'''train = data.iloc[:4580]\n",
    "\n",
    "test = data.iloc[4580:].drop('Winner', axis=1)\n",
    "\n",
    "train.shape, test.shape'''"
   ]
  },
  {
   "cell_type": "code",
   "execution_count": null,
   "id": "db792db3",
   "metadata": {},
   "outputs": [],
   "source": [
    "'''# H2O\n",
    "\n",
    "h2o.init()\n",
    "\n",
    "# parsear datos para h20\n",
    "\n",
    "h2train=h2o.H2OFrame(train)\n",
    "\n",
    "h2test=h2o.H2OFrame(test)\n",
    "\n",
    "X=[c for c in h2train.columns if c!='Winner']\n",
    "\n",
    "y='Winner'\n",
    "\n",
    "# inicia auto-machine-learning\n",
    "\n",
    "automl=H2OAutoML(max_models=50,\n",
    "                 seed=42,\n",
    "                 max_runtime_secs=300,\n",
    "                 sort_metric='RMSE')'''"
   ]
  },
  {
   "cell_type": "code",
   "execution_count": null,
   "id": "303ff159",
   "metadata": {},
   "outputs": [],
   "source": [
    "'''# entrena\n",
    "\n",
    "automl.train(x=X,\n",
    "             y=y,\n",
    "             training_frame=h2train)'''"
   ]
  },
  {
   "cell_type": "code",
   "execution_count": null,
   "id": "9004bd25",
   "metadata": {},
   "outputs": [],
   "source": [
    "'''# prediciones del lider\n",
    "\n",
    "y_pred = automl.leader.predict(h2test)\n",
    "\n",
    "y_pred = y_pred.as_data_frame()\n",
    "\n",
    "y_pred'''"
   ]
  },
  {
   "cell_type": "code",
   "execution_count": null,
   "id": "c9063684",
   "metadata": {},
   "outputs": [],
   "source": []
  },
  {
   "cell_type": "code",
   "execution_count": null,
   "id": "c00e55a0",
   "metadata": {},
   "outputs": [],
   "source": []
  }
 ],
 "metadata": {
  "kernelspec": {
   "display_name": "Python 3 (ipykernel)",
   "language": "python",
   "name": "python3"
  },
  "language_info": {
   "codemirror_mode": {
    "name": "ipython",
    "version": 3
   },
   "file_extension": ".py",
   "mimetype": "text/x-python",
   "name": "python",
   "nbconvert_exporter": "python",
   "pygments_lexer": "ipython3",
   "version": "3.9.7"
  }
 },
 "nbformat": 4,
 "nbformat_minor": 5
}
