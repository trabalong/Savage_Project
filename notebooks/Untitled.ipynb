{
 "cells": [
  {
   "cell_type": "code",
   "execution_count": null,
   "id": "fdcb03e1",
   "metadata": {},
   "outputs": [],
   "source": [
    "import sys\n",
    "sys.path.append(r'..\\src')\n",
    "\n",
    "import pandas as pd\n",
    "\n",
    "import pylab as plt\n",
    "\n",
    "import seaborn as sns\n",
    "\n",
    "import numpy as np\n",
    "\n",
    "from src import getGraphic\n",
    "from ufc_fights import set_names_upper, set_name_winner, fix_columns, set_nan_columns, add_fighterid\n",
    "from ufc_fighters import load_ufc, set_fighter_upper, clean_fighters"
   ]
  },
  {
   "cell_type": "code",
   "execution_count": null,
   "id": "e573b6bd",
   "metadata": {},
   "outputs": [],
   "source": [
    "fighter = pd.read_csv(r'..\\data\\raw_fighter_details.csv')\n",
    "\n",
    "data = pd.read_csv(r'..\\data\\data.csv')\n",
    "\n",
    "ufc_fighters = pd.read_csv(r'..\\data\\ufc_fighters_official.csv')"
   ]
  },
  {
   "cell_type": "markdown",
   "id": "7fb926cb",
   "metadata": {},
   "source": [
    "# TABLA LUCHADORES"
   ]
  },
  {
   "cell_type": "code",
   "execution_count": null,
   "id": "9f1e069d",
   "metadata": {},
   "outputs": [],
   "source": [
    "set_fighter_upper(fighter)\n",
    "\n",
    "fighters = clean_fighters(fighter, ufc_fighters)\n",
    "\n",
    "fighters"
   ]
  },
  {
   "cell_type": "markdown",
   "id": "03bca6f4",
   "metadata": {},
   "source": [
    "# TABLA FIGHTS"
   ]
  },
  {
   "cell_type": "code",
   "execution_count": null,
   "id": "82a90a70",
   "metadata": {},
   "outputs": [],
   "source": [
    "data.info()"
   ]
  },
  {
   "cell_type": "code",
   "execution_count": null,
   "id": "4718ea22",
   "metadata": {},
   "outputs": [],
   "source": [
    "data.head()"
   ]
  },
  {
   "cell_type": "code",
   "execution_count": null,
   "id": "73eb7c5c",
   "metadata": {},
   "outputs": [],
   "source": [
    "# Las reglas oficiales de la UFC no entraron hasta el año 2001, así que solo cogemos combates por encima del año 2002\n",
    "data = data[data.date>'2002-01-01']\n",
    "# B_draw y R_draw son columnas con todos los valores 0\n",
    "data = data.drop(['B_draw','R_draw'], axis=1)"
   ]
  },
  {
   "cell_type": "code",
   "execution_count": null,
   "id": "b6c1bca0",
   "metadata": {},
   "outputs": [],
   "source": [
    "set_names_upper(data)\n",
    "\n",
    "data.head()"
   ]
  },
  {
   "cell_type": "code",
   "execution_count": null,
   "id": "55995b98",
   "metadata": {},
   "outputs": [],
   "source": [
    "'''set_name_winner(data)\n",
    "\n",
    "data.head()'''"
   ]
  },
  {
   "cell_type": "code",
   "execution_count": null,
   "id": "7fb53e6e",
   "metadata": {},
   "outputs": [],
   "source": [
    "fix_columns(data)\n",
    "\n",
    "data"
   ]
  },
  {
   "cell_type": "code",
   "execution_count": null,
   "id": "2167b7d7",
   "metadata": {},
   "outputs": [],
   "source": [
    "set_nan_columns(data)\n",
    "\n",
    "data"
   ]
  },
  {
   "cell_type": "code",
   "execution_count": null,
   "id": "95a5609d",
   "metadata": {},
   "outputs": [],
   "source": [
    "data.select_dtypes(include=['object','bool'])"
   ]
  },
  {
   "cell_type": "code",
   "execution_count": null,
   "id": "0db3b49f",
   "metadata": {},
   "outputs": [],
   "source": []
  },
  {
   "cell_type": "code",
   "execution_count": null,
   "id": "c3be1c5d",
   "metadata": {},
   "outputs": [],
   "source": [
    "data.info()"
   ]
  },
  {
   "cell_type": "code",
   "execution_count": null,
   "id": "de0c5fe8",
   "metadata": {},
   "outputs": [],
   "source": []
  },
  {
   "cell_type": "code",
   "execution_count": null,
   "id": "1ba662b5",
   "metadata": {},
   "outputs": [],
   "source": [
    "# ¿Borrar LOCATION?\n"
   ]
  },
  {
   "cell_type": "code",
   "execution_count": null,
   "id": "1c679340",
   "metadata": {},
   "outputs": [],
   "source": []
  },
  {
   "cell_type": "code",
   "execution_count": null,
   "id": "13b7de25",
   "metadata": {},
   "outputs": [],
   "source": []
  },
  {
   "cell_type": "code",
   "execution_count": null,
   "id": "c9063684",
   "metadata": {},
   "outputs": [],
   "source": [
    "'''# buscando colinealidad\n",
    "\n",
    "plt.figure(figsize=(15, 10))\n",
    "\n",
    "sns.set(style='white')\n",
    "\n",
    "mask=np.triu(np.ones_like(data1.iloc[:,31:55].corr(), dtype=bool))\n",
    "\n",
    "cmap=sns.diverging_palette(0, 10, as_cmap=True)\n",
    "\n",
    "\n",
    "sns.heatmap(data1.iloc[:,31:55].corr(),\n",
    "           mask=mask,\n",
    "          cmap=cmap,\n",
    "          center=0,\n",
    "          square=True,\n",
    "          linewidths=0.5,\n",
    "          cbar_kws={'shrink': 0.5},\n",
    "           annot=True);'''"
   ]
  },
  {
   "cell_type": "code",
   "execution_count": null,
   "id": "a322fd84",
   "metadata": {},
   "outputs": [],
   "source": []
  }
 ],
 "metadata": {
  "kernelspec": {
   "display_name": "Python 3 (ipykernel)",
   "language": "python",
   "name": "python3"
  },
  "language_info": {
   "codemirror_mode": {
    "name": "ipython",
    "version": 3
   },
   "file_extension": ".py",
   "mimetype": "text/x-python",
   "name": "python",
   "nbconvert_exporter": "python",
   "pygments_lexer": "ipython3",
   "version": "3.9.7"
  }
 },
 "nbformat": 4,
 "nbformat_minor": 5
}
